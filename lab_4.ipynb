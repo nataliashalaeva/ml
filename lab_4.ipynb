{
  "nbformat": 4,
  "nbformat_minor": 0,
  "metadata": {
    "colab": {
      "provenance": [],
      "include_colab_link": true
    },
    "kernelspec": {
      "name": "python3",
      "display_name": "Python 3"
    },
    "language_info": {
      "name": "python"
    }
  },
  "cells": [
    {
      "cell_type": "markdown",
      "metadata": {
        "id": "view-in-github",
        "colab_type": "text"
      },
      "source": [
        "<a href=\"https://colab.research.google.com/github/nataliashalaeva/ml/blob/main/lab_4.ipynb\" target=\"_parent\"><img src=\"https://colab.research.google.com/assets/colab-badge.svg\" alt=\"Open In Colab\"/></a>"
      ]
    },
    {
      "cell_type": "code",
      "execution_count": 1,
      "metadata": {
        "id": "uapRsoHFfh9K"
      },
      "outputs": [],
      "source": [
        "import pandas as pd\n",
        "import numpy as np\n",
        "import matplotlib.pyplot as plt\n",
        "import seaborn as sns"
      ]
    },
    {
      "cell_type": "code",
      "source": [
        "from sklearn.model_selection import train_test_split, KFold, cross_val_score\n",
        "from sklearn.linear_model import LinearRegression, Lasso, Ridge, LassoCV, RidgeCV\n",
        "from sklearn.preprocessing import StandardScaler, PolynomialFeatures\n",
        "from sklearn.metrics import mean_squared_error, r2_score"
      ],
      "metadata": {
        "id": "GMlDVGpeib2W"
      },
      "execution_count": 2,
      "outputs": []
    },
    {
      "cell_type": "code",
      "source": [
        "ds = pd.read_csv('/AirQualityUCI.csv', sep=';')\n",
        "ds.info()"
      ],
      "metadata": {
        "colab": {
          "base_uri": "https://localhost:8080/"
        },
        "id": "A-0DNW13gy0u",
        "outputId": "a8045963-5ef4-4625-c9a4-4527434b54a5"
      },
      "execution_count": 6,
      "outputs": [
        {
          "output_type": "stream",
          "name": "stdout",
          "text": [
            "<class 'pandas.core.frame.DataFrame'>\n",
            "RangeIndex: 9471 entries, 0 to 9470\n",
            "Data columns (total 17 columns):\n",
            " #   Column         Non-Null Count  Dtype  \n",
            "---  ------         --------------  -----  \n",
            " 0   Date           9357 non-null   object \n",
            " 1   Time           9357 non-null   object \n",
            " 2   CO(GT)         9357 non-null   object \n",
            " 3   PT08.S1(CO)    9357 non-null   float64\n",
            " 4   NMHC(GT)       9357 non-null   float64\n",
            " 5   C6H6(GT)       9357 non-null   object \n",
            " 6   PT08.S2(NMHC)  9357 non-null   float64\n",
            " 7   NOx(GT)        9357 non-null   float64\n",
            " 8   PT08.S3(NOx)   9357 non-null   float64\n",
            " 9   NO2(GT)        9357 non-null   float64\n",
            " 10  PT08.S4(NO2)   9357 non-null   float64\n",
            " 11  PT08.S5(O3)    9357 non-null   float64\n",
            " 12  T              9357 non-null   object \n",
            " 13  RH             9357 non-null   object \n",
            " 14  AH             9357 non-null   object \n",
            " 15  Unnamed: 15    0 non-null      float64\n",
            " 16  Unnamed: 16    0 non-null      float64\n",
            "dtypes: float64(10), object(7)\n",
            "memory usage: 1.2+ MB\n"
          ]
        }
      ]
    },
    {
      "cell_type": "code",
      "source": [
        "for col in [\"CO(GT)\", \"C6H6(GT)\", \"T\", \"RH\", \"AH\"]:\n",
        "    ds[col] = ds[col].str.replace(',', '.').astype(float)\n",
        "ds.info()"
      ],
      "metadata": {
        "colab": {
          "base_uri": "https://localhost:8080/"
        },
        "id": "-wP_vOtSgz-q",
        "outputId": "e352604c-6efc-4abd-cbf6-1905278f03e2"
      },
      "execution_count": 7,
      "outputs": [
        {
          "output_type": "stream",
          "name": "stdout",
          "text": [
            "<class 'pandas.core.frame.DataFrame'>\n",
            "RangeIndex: 9471 entries, 0 to 9470\n",
            "Data columns (total 17 columns):\n",
            " #   Column         Non-Null Count  Dtype  \n",
            "---  ------         --------------  -----  \n",
            " 0   Date           9357 non-null   object \n",
            " 1   Time           9357 non-null   object \n",
            " 2   CO(GT)         9357 non-null   float64\n",
            " 3   PT08.S1(CO)    9357 non-null   float64\n",
            " 4   NMHC(GT)       9357 non-null   float64\n",
            " 5   C6H6(GT)       9357 non-null   float64\n",
            " 6   PT08.S2(NMHC)  9357 non-null   float64\n",
            " 7   NOx(GT)        9357 non-null   float64\n",
            " 8   PT08.S3(NOx)   9357 non-null   float64\n",
            " 9   NO2(GT)        9357 non-null   float64\n",
            " 10  PT08.S4(NO2)   9357 non-null   float64\n",
            " 11  PT08.S5(O3)    9357 non-null   float64\n",
            " 12  T              9357 non-null   float64\n",
            " 13  RH             9357 non-null   float64\n",
            " 14  AH             9357 non-null   float64\n",
            " 15  Unnamed: 15    0 non-null      float64\n",
            " 16  Unnamed: 16    0 non-null      float64\n",
            "dtypes: float64(15), object(2)\n",
            "memory usage: 1.2+ MB\n"
          ]
        }
      ]
    },
    {
      "cell_type": "markdown",
      "source": [
        "1. Базовая линейная регрессия с одним признаком. Предсказать уровень концентрации\n",
        "оксида углерода (CO(GT)) на основе уровня концентрации бензола (C6H6(GT)) используя\n",
        "простую линейную регрессию. Использовать метрики: R-квадрат, MSE."
      ],
      "metadata": {
        "id": "z39NMJf15WaS"
      }
    },
    {
      "cell_type": "code",
      "source": [
        "\n",
        "fds = ds[(ds['CO(GT)'] != -200) & (ds['C6H6(GT)'] != -200) & (ds['CO(GT)'].isna() == False) & (ds['C6H6(GT)'].isna() == False)]\n",
        "y = fds['CO(GT)']\n",
        "x = fds[['C6H6(GT)']]\n",
        "x_train, x_test, y_train, y_test = train_test_split(x, y, test_size=0.2, random_state=42)\n",
        "\n",
        "\n",
        "model_1 = LinearRegression()\n",
        "model_1.fit(x_train, y_train)\n",
        "y_pred = model_1.predict(x_test)\n",
        "\n",
        "r2_1 = r2_score(y_test, y_pred)\n",
        "mse_1 = mean_squared_error(y_test, y_pred)\n",
        "\n",
        "print(\"1. Базовая линейная регрессия:\")\n",
        "print(f'R-квадрат: {r2_1}')\n",
        "print(f'MSE: {mse_1}')\n",
        "\n",
        "plt.scatter(x_test, y_test, color='blue', label='Actual')\n",
        "plt.plot(x_test, y_pred, color='red', linewidth=2, label='Predicted')\n",
        "plt.xlabel(\"C6H6(GT)\")\n",
        "plt.ylabel(\"CO(GT)\")\n",
        "plt.legend()\n",
        "plt.show()\n"
      ],
      "metadata": {
        "colab": {
          "base_uri": "https://localhost:8080/",
          "height": 501
        },
        "id": "N18LEZ7_hC3A",
        "outputId": "a0c14657-cb5b-4af2-bbb7-2758dde12feb"
      },
      "execution_count": 8,
      "outputs": [
        {
          "output_type": "stream",
          "name": "stdout",
          "text": [
            "1. Базовая линейная регрессия:\n",
            "R-квадрат: 0.8720848581546516\n",
            "MSE: 0.24964304923782724\n"
          ]
        },
        {
          "output_type": "display_data",
          "data": {
            "text/plain": [
              "<Figure size 640x480 with 1 Axes>"
            ],
            "image/png": "[encoded data removed]"
          },
          "metadata": {}
        }
      ]
    },
    {
      "cell_type": "markdown",
      "source": [
        "2. Множественная линейная регрессия. Предсказать уровень концентрации оксида\n",
        "углерода (CO(GT)) на основе нескольких признаков (например, C6H6(GT), T, RH, NO2(GT)).\n",
        "Использовать метрики: R-квадрат, MSE."
      ],
      "metadata": {
        "id": "IcI_84e75qV-"
      }
    },
    {
      "cell_type": "code",
      "source": [
        "\n",
        "fds2 = fds[(fds['T'] != -200) & (fds['RH'] != -200) & (fds['NO2(GT)'] != -200) & (fds['T'].isna() == False) & (fds['RH'].isna() == False) & (fds['NO2(GT)'].isna() == False)]\n",
        "x = fds2[['C6H6(GT)', 'T', 'RH', 'NO2(GT)']]\n",
        "y = fds2['CO(GT)']\n",
        "\n",
        "x_train, x_test, y_train, y_test = train_test_split(x, y, test_size=0.2, random_state=42)\n",
        "model_2 = LinearRegression()\n",
        "model_2.fit(x_train, y_train)\n",
        "y_pred = model_2.predict(x_test)\n",
        "\n",
        "r2_2 = r2_score(y_test, y_pred)\n",
        "mse_2 = mean_squared_error(y_test, y_pred)\n",
        "\n",
        "print(\"R-квадрат:\", r2_2)\n",
        "print(\"MSE:\", mse_2)\n"
      ],
      "metadata": {
        "colab": {
          "base_uri": "https://localhost:8080/"
        },
        "id": "j4sINsPHhj49",
        "outputId": "d16a73d8-9ead-4693-a794-1e85a69ced74"
      },
      "execution_count": 9,
      "outputs": [
        {
          "output_type": "stream",
          "name": "stdout",
          "text": [
            "R-квадрат: 0.9038757238266725\n",
            "MSE: 0.18149220398668106\n"
          ]
        }
      ]
    },
    {
      "cell_type": "markdown",
      "source": [
        "3. Стандартизация признаков и линейная регрессия. Повторить задачу 2, но перед\n",
        "обучением модели стандартизировать признаки, используя StandardScaler. Использовать\n",
        "метрики: R-квадрат, MSE."
      ],
      "metadata": {
        "id": "TFjmwE9s5yof"
      }
    },
    {
      "cell_type": "code",
      "source": [
        "scaler = StandardScaler()\n",
        "x_train_scaled = scaler.fit_transform(x_train)\n",
        "x_test_scaled = scaler.transform(x_test)\n",
        "\n",
        "model_3 = LinearRegression()\n",
        "model_3.fit(x_train_scaled, y_train)\n",
        "y_pred_3 = model_3.predict(x_test_scaled)\n",
        "\n",
        "r2_3 = r2_score(y_test, y_pred_3)\n",
        "mse_3 = mean_squared_error(y_test, y_pred_3)\n",
        "\n",
        "print(f'R-квадрат: {r2_3}')\n",
        "print(f'MSE: {mse_3}')"
      ],
      "metadata": {
        "colab": {
          "base_uri": "https://localhost:8080/"
        },
        "id": "2Inv3tsAhnwT",
        "outputId": "59eb3b76-0308-4082-ee5d-f4e350b61c95"
      },
      "execution_count": 10,
      "outputs": [
        {
          "output_type": "stream",
          "name": "stdout",
          "text": [
            "R-квадрат: 0.9038757238266725\n",
            "MSE: 0.18149220398668103\n"
          ]
        }
      ]
    },
    {
      "cell_type": "code",
      "source": [
        "\n",
        "cds = ds.drop(columns=['Unnamed: 15', 'Unnamed: 16', 'Date', 'Time'])\n",
        "cds = cds.dropna()\n",
        "cds.info()\n"
      ],
      "metadata": {
        "colab": {
          "base_uri": "https://localhost:8080/"
        },
        "id": "dqO6W4bHsVPD",
        "outputId": "152d9d98-8b04-4030-9d51-3a4cebf8742d"
      },
      "execution_count": 11,
      "outputs": [
        {
          "output_type": "stream",
          "name": "stdout",
          "text": [
            "<class 'pandas.core.frame.DataFrame'>\n",
            "Index: 9357 entries, 0 to 9356\n",
            "Data columns (total 13 columns):\n",
            " #   Column         Non-Null Count  Dtype  \n",
            "---  ------         --------------  -----  \n",
            " 0   CO(GT)         9357 non-null   float64\n",
            " 1   PT08.S1(CO)    9357 non-null   float64\n",
            " 2   NMHC(GT)       9357 non-null   float64\n",
            " 3   C6H6(GT)       9357 non-null   float64\n",
            " 4   PT08.S2(NMHC)  9357 non-null   float64\n",
            " 5   NOx(GT)        9357 non-null   float64\n",
            " 6   PT08.S3(NOx)   9357 non-null   float64\n",
            " 7   NO2(GT)        9357 non-null   float64\n",
            " 8   PT08.S4(NO2)   9357 non-null   float64\n",
            " 9   PT08.S5(O3)    9357 non-null   float64\n",
            " 10  T              9357 non-null   float64\n",
            " 11  RH             9357 non-null   float64\n",
            " 12  AH             9357 non-null   float64\n",
            "dtypes: float64(13)\n",
            "memory usage: 1023.4 KB\n"
          ]
        }
      ]
    },
    {
      "cell_type": "markdown",
      "source": [
        "4. Линейная регрессия с L1 регуляризацией (Lasso). Предсказать уровень концентрации\n",
        "оксида углерода (CO(GT)) на основе всех доступных признаков, используя линейную\n",
        "регрессию с L1 регуляризацией (Lasso). Подобрать оптимальный параметр регуляризации\n",
        "(alpha) с помощью кросс-валидации. Использовать метрики: R-квадрат, MSE, также\n",
        "оценить количество ненулевых коэффициентов."
      ],
      "metadata": {
        "id": "b_j-yHtl55aj"
      }
    },
    {
      "cell_type": "code",
      "source": [
        "x = cds.drop(columns=['CO(GT)'], axis = 1)\n",
        "y = cds['CO(GT)']\n",
        "x_train, x_test, y_train, y_test = train_test_split(x, y, test_size=0.2, random_state=42)\n",
        "\n",
        "scaler = StandardScaler()\n",
        "x_train_scaled = scaler.fit_transform(x_train)\n",
        "x_test_scaled = scaler.transform(x_test)\n",
        "\n",
        "lasso_4 = LassoCV(cv=11)\n",
        "lasso_4.fit(x_train_scaled, y_train)\n",
        "\n",
        "model_4 = Lasso(alpha=lasso_4.alpha_)\n",
        "model_4.fit(x_train_scaled, y_train)\n",
        "y_pred_4 = model_4.predict(x_test_scaled)\n",
        "\n",
        "r2_4 = r2_score(y_test, y_pred_4)\n",
        "mse_4 = mean_squared_error(y_test, y_pred_4)\n",
        "non_zero_coef = np.sum(model_4.coef_ != 0)\n",
        "\n",
        "print(f'R-квадрат: {r2_4}')\n",
        "print(f'MSE: {mse_4}')\n",
        "print(f'Количество ненулевых коэффициентов: {non_zero_coef}')\n",
        "print(f\"Оптимальный alpha: {lasso_4.alpha_:.4f}\")\n"
      ],
      "metadata": {
        "colab": {
          "base_uri": "https://localhost:8080/"
        },
        "id": "V-tuFnxOhwko",
        "outputId": "b41a20a1-5655-447b-cf10-d96be14893c2"
      },
      "execution_count": 12,
      "outputs": [
        {
          "output_type": "stream",
          "name": "stdout",
          "text": [
            "R-квадрат: 0.5154535583418232\n",
            "MSE: 2862.75892617906\n",
            "Количество ненулевых коэффициентов: 11\n",
            "Оптимальный alpha: 0.0516\n"
          ]
        }
      ]
    },
    {
      "cell_type": "markdown",
      "source": [
        "5. Линейная регрессия с L2 регуляризацией (Ridge). Предсказать уровень концентрации\n",
        "оксида углерода (CO(GT)) на основе всех доступных признаков, используя линейную\n",
        "регрессию с L2 регуляризацией (Ridge). Подобрать оптимальный параметр регуляризации\n",
        "(alpha) с помощью кросс-валидации. Использовать метрики: R-квадрат, MSE."
      ],
      "metadata": {
        "id": "oO7yMh0r6Aws"
      }
    },
    {
      "cell_type": "code",
      "source": [
        "x = cds.drop(columns=['CO(GT)'], axis = 1)\n",
        "y = cds['CO(GT)']\n",
        "x_train, x_test, y_train, y_test = train_test_split(x, y, test_size=0.2, random_state=42)\n",
        "\n",
        "scaler = StandardScaler()\n",
        "x_train_scaled = scaler.fit_transform(x_train)\n",
        "x_test_scaled = scaler.transform(x_test)\n",
        "\n",
        "ridge_cv = RidgeCV(cv=11)\n",
        "ridge_cv.fit(x_train_scaled, y_train)\n",
        "\n",
        "model_5 = Ridge(alpha=ridge_cv.alpha_)\n",
        "model_5.fit(x_train_scaled, y_train)\n",
        "y_pred_5 = model_5.predict(x_test_scaled)\n",
        "\n",
        "r2_5 = r2_score(y_test, y_pred_5)\n",
        "mse_5 = mean_squared_error(y_test, y_pred_5)\n",
        "\n",
        "print(f'R-квадрат: {r2_5}')\n",
        "print(f'MSE: {mse_5}')\n",
        "print(f\"Оптимальный alpha: {ridge_cv.alpha_:.4f}\")\n",
        "\n",
        "plt.hist(y_test - y_pred_4, bins=30)\n",
        "plt.xlabel(\"Ошибка предсказания\")\n",
        "plt.ylabel(\"Частота\")\n",
        "plt.title(\"Распределение ошибок модели\")\n",
        "plt.show()"
      ],
      "metadata": {
        "colab": {
          "base_uri": "https://localhost:8080/",
          "height": 524
        },
        "id": "7aqTU0bhhw6g",
        "outputId": "ef8dec3c-4a85-47af-ac17-aa78a5741d82"
      },
      "execution_count": 13,
      "outputs": [
        {
          "output_type": "stream",
          "name": "stdout",
          "text": [
            "R-квадрат: 0.5153469799185606\n",
            "MSE: 2863.388604381811\n",
            "Оптимальный alpha: 10.0000\n"
          ]
        },
        {
          "output_type": "display_data",
          "data": {
            "text/plain": [
              "<Figure size 640x480 with 1 Axes>"
            ],
            "image/png": "[encoded data removed]"
          },
          "metadata": {}
        }
      ]
    },
    {
      "cell_type": "markdown",
      "source": [
        "6. Кросс-валидация для оценки модели. Использовать K-fold кросс-валидацию\n",
        "(например, с K=5 или K=10) для оценки производительности модели множественной\n",
        "линейной регрессии (пункт 2). Использовать метрики: R-квадрат, MSE по всем фолдам"
      ],
      "metadata": {
        "id": "ESkLHYWA6INa"
      }
    },
    {
      "cell_type": "code",
      "source": [
        "X = cds.drop(columns=['CO(GT)'])\n",
        "y = cds['CO(GT)']\n",
        "\n",
        "k = 10\n",
        "kf = KFold(n_splits=k, shuffle=True, random_state=42)\n",
        "\n",
        "\n",
        "model = LinearRegression()\n",
        "r2_scores = cross_val_score(model, X, y, cv=kf, scoring='r2')\n",
        "mse_scores = cross_val_score(model, X, y, cv=kf, scoring='neg_mean_squared_error')\n",
        "\n",
        "print(f'Средний R-квадрат: {np.mean(r2_scores):.4f}')\n",
        "print(f'Средний MSE: {-np.mean(mse_scores):.4f}')\n",
        "print(f'R-квадрат по фолдам: {r2_scores}')\n",
        "print(f'MSE по фолдам: {mse_scores}')"
      ],
      "metadata": {
        "colab": {
          "base_uri": "https://localhost:8080/"
        },
        "id": "x3n-l3anhxKg",
        "outputId": "3304e1d1-2764-4f8f-ec6b-564f3dd26fe6"
      },
      "execution_count": 14,
      "outputs": [
        {
          "output_type": "stream",
          "name": "stdout",
          "text": [
            "Средний R-квадрат: 0.4703\n",
            "Средний MSE: 3185.9916\n",
            "R-квадрат по фолдам: [0.48408675 0.54594775 0.44080339 0.47859285 0.49439331 0.4774651\n",
            " 0.38754833 0.49933667 0.45005611 0.44519335]\n",
            "MSE по фолдам: [-2959.61221784 -2758.91576153 -3161.35945187 -3195.98997607\n",
            " -3357.69813892 -3219.58466727 -3438.20640455 -2651.85023551\n",
            " -3652.1430946  -3464.55635435]\n"
          ]
        }
      ]
    },
    {
      "cell_type": "markdown",
      "source": [
        "7. Регуляризация с кросс-валидацией для выбора параметра alpha (Lasso или Ridge).\n",
        "Использовать кросс-валидацию для выбора оптимального значения параметра\n",
        "регуляризации alpha для Lasso или Ridge регрессии. Например, использовать RidgeCV или\n",
        "LassoCV из scikit-learn. Использовать метрики: R-квадрат, MSE, оптимальное значение\n",
        "alpha."
      ],
      "metadata": {
        "id": "bwVgSMQw6NqC"
      }
    },
    {
      "cell_type": "code",
      "source": [
        "lasso = LassoCV(cv=kf)\n",
        "lasso.fit(X, y)\n",
        "y_pred_lasso = lasso.predict(X)\n",
        "r2_lasso = lasso.score(X, y)\n",
        "mse_lasso = np.mean((y - y_pred_lasso) ** 2)\n",
        "\n",
        "print(f\"Lasso Regression:\")\n",
        "print(f\"Оптимальный alpha: {lasso.alpha_:.4f}\")\n",
        "print(f\"R-квадрат: {r2_lasso:.4f}\")\n",
        "print(f\"MSE: {mse_lasso:.4f}\")\n",
        "print(f\"Количество ненулевых коэффициентов: {np.sum(lasso.coef_ != 0)}\")\n",
        "print(\"-\" * 50)\n",
        "\n",
        "\n",
        "ridge = RidgeCV(alphas=np.logspace(-4, 1, 50), cv=kf, scoring='r2')\n",
        "ridge.fit(X, y)\n",
        "y_pred_ridge = ridge.predict(X)\n",
        "r2_ridge = ridge.score(X, y)\n",
        "mse_ridge = np.mean((y - y_pred_ridge) ** 2)\n",
        "\n",
        "print(f\"Ridge Regression:\")\n",
        "print(f\"Оптимальный alpha: {ridge.alpha_:.4f}\")\n",
        "print(f\"R-квадрат: {r2_ridge:.4f}\")\n",
        "print(f\"MSE: {mse_ridge:.4f}\")"
      ],
      "metadata": {
        "colab": {
          "base_uri": "https://localhost:8080/"
        },
        "id": "goA26c9Yhxim",
        "outputId": "53205002-ccf6-4c09-e002-e2fec46dca72"
      },
      "execution_count": 15,
      "outputs": [
        {
          "output_type": "stream",
          "name": "stdout",
          "text": [
            "Lasso Regression:\n",
            "Оптимальный alpha: 10.5235\n",
            "R-квадрат: 0.4732\n",
            "MSE: 3176.7067\n",
            "Количество ненулевых коэффициентов: 10\n",
            "--------------------------------------------------\n",
            "Ridge Regression:\n",
            "Оптимальный alpha: 10.0000\n",
            "R-квадрат: 0.4737\n",
            "MSE: 3173.8206\n"
          ]
        }
      ]
    },
    {
      "cell_type": "markdown",
      "source": [
        "8. Полиномиальная регрессия. Создать полиномиальные признаки (например, до степени\n",
        "2 или 3) из исходных признаков и использовать их для обучения линейной регрессии.\n",
        "Сравнить производительность с обычной линейной регрессией. Использовать метрики: Rквадрат, MSE."
      ],
      "metadata": {
        "id": "wdOMWFHq6Wm8"
      }
    },
    {
      "cell_type": "code",
      "source": [
        "x = fds2[['C6H6(GT)', 'T']]\n",
        "y = fds2['CO(GT)']\n",
        "\n",
        "X_train, X_test, y_train, y_test = train_test_split(x, y, test_size=0.2, random_state=42)\n",
        "\n",
        "poly = PolynomialFeatures(degree=2)\n",
        "X_train_poly = poly.fit_transform(X_train)\n",
        "X_test_poly = poly.transform(X_test)\n",
        "\n",
        "model_8 = LinearRegression()\n",
        "model_8.fit(X_train_poly, y_train)\n",
        "y_pred_8 = model_8.predict(X_test_poly)\n",
        "\n",
        "r2_8 = r2_score(y_test, y_pred_8)\n",
        "mse_8 = mean_squared_error(y_test, y_pred_8)\n",
        "\n",
        "print(f'R-квадрат: {r2_8}')\n",
        "print(f'MSE: {mse_8}')"
      ],
      "metadata": {
        "colab": {
          "base_uri": "https://localhost:8080/"
        },
        "id": "woNrCj_Zhxvl",
        "outputId": "cdf65b4d-193a-4534-cd95-07e48a3a171c"
      },
      "execution_count": 16,
      "outputs": [
        {
          "output_type": "stream",
          "name": "stdout",
          "text": [
            "R-квадрат: 0.8989291668308254\n",
            "MSE: 0.19083179609662035\n"
          ]
        }
      ]
    },
    {
      "cell_type": "markdown",
      "source": [
        "9. Сравнение моделей и интерпретация результатов. Сравнить производительность всех\n",
        "построенных моделей (простая линейная регрессия, множественная линейная регрессия,\n",
        "Lasso, Ridge, полиномиальная регрессия). Проанализировать коэффициенты моделей и\n",
        "сделать выводы о важности различных признаков для прогнозирования CO(GT)."
      ],
      "metadata": {
        "id": "2zcOVRnE6bZL"
      }
    },
    {
      "cell_type": "code",
      "source": [
        "print(\"Результаты моделей:\")\n",
        "print(\"1. Базовая линейная регрессия:\")\n",
        "print(f'R-квадрат: {r2_1}')\n",
        "print(f'MSE: {mse_1}')\n",
        "print(\"-\" * 50)\n",
        "print(\"2. Множественная линейная регрессия:\")\n",
        "print(f'R-квадрат: {r2_2}')\n",
        "print(f'MSE: {mse_2}')\n",
        "print(\"-\" * 50)\n",
        "print(\"3. Стандартизация признаков и линейная регрессия:\")\n",
        "print(f'R-квадрат: {r2_3}')\n",
        "print(f'MSE: {mse_3}')\n",
        "print(\"-\" * 50)\n",
        "print(\"4. LASSO-регрессия:\")\n",
        "print(f'R-квадрат: {r2_4}')\n",
        "print(f'MSE: {mse_4}')\n",
        "print(f'Количество ненулевых коэффициентов: {non_zero_coef}')\n",
        "print(\"-\" * 50)\n",
        "print(\"5. Ridge-регрессия:\")\n",
        "print(f'R-квадрат: {r2_5}')\n",
        "print(f'MSE: {mse_5}')\n",
        "print(\"-\" * 50)\n",
        "print(\"6. Кросс-валидация для оценки модели:\")\n",
        "print(f'Средний R-квадрат: {np.mean(r2_scores):.4f}')\n",
        "print(f'Средний MSE: {-np.mean(mse_scores):.4f}')\n",
        "print(f'R-квадрат по фолдам: {r2_scores}')\n",
        "print(f'MSE по фолдам: {mse_scores}')\n",
        "print(\"-\" * 50)\n",
        "print(\"7. Регуляризация с кросс-валидацией для выбора параметра alpha (Lasso или Ridge):\")\n",
        "print(f\"Lasso Regression:\")\n",
        "print(f\"Оптимальный alpha: {lasso.alpha_:.4f}\")\n",
        "print(f\"R-квадрат: {r2_lasso:.4f}\")\n",
        "print(f\"MSE: {mse_lasso:.4f}\")\n",
        "print(f\"Количество ненулевых коэффициентов: {np.sum(lasso.coef_ != 0)}\")\n",
        "print(\"-\" * 50)\n",
        "print(f\"Ridge Regression:\")\n",
        "print(f\"Оптимальный alpha: {ridge.alpha_:.4f}\")\n",
        "print(f\"R-квадрат: {r2_ridge:.4f}\")\n",
        "print(f\"MSE: {mse_ridge:.4f}\")\n",
        "print(\"-\" * 50)\n",
        "print(\"8. Полиномиальная регрессия:\")\n",
        "print(f'R-квадрат: {r2_8}')\n",
        "print(f'MSE: {mse_8}')\n",
        "print(\"-\" * 50)\n",
        "\n"
      ],
      "metadata": {
        "colab": {
          "base_uri": "https://localhost:8080/"
        },
        "id": "pkgH85jYhx6T",
        "outputId": "e3036d65-85c2-4bd2-bddd-03c83d740202"
      },
      "execution_count": 17,
      "outputs": [
        {
          "output_type": "stream",
          "name": "stdout",
          "text": [
            "Результаты моделей:\n",
            "1. Базовая линейная регрессия:\n",
            "R-квадрат: 0.8720848581546516\n",
            "MSE: 0.24964304923782724\n",
            "--------------------------------------------------\n",
            "2. Множественная линейная регрессия:\n",
            "R-квадрат: 0.9038757238266725\n",
            "MSE: 0.18149220398668106\n",
            "--------------------------------------------------\n",
            "3. Стандартизация признаков и линейная регрессия:\n",
            "R-квадрат: 0.9038757238266725\n",
            "MSE: 0.18149220398668103\n",
            "--------------------------------------------------\n",
            "4. LASSO-регрессия:\n",
            "R-квадрат: 0.5154535583418232\n",
            "MSE: 2862.75892617906\n",
            "Количество ненулевых коэффициентов: 11\n",
            "--------------------------------------------------\n",
            "5. Ridge-регрессия:\n",
            "R-квадрат: 0.5153469799185606\n",
            "MSE: 2863.388604381811\n",
            "--------------------------------------------------\n",
            "6. Кросс-валидация для оценки модели:\n",
            "Средний R-квадрат: 0.4703\n",
            "Средний MSE: 3185.9916\n",
            "R-квадрат по фолдам: [0.48408675 0.54594775 0.44080339 0.47859285 0.49439331 0.4774651\n",
            " 0.38754833 0.49933667 0.45005611 0.44519335]\n",
            "MSE по фолдам: [-2959.61221784 -2758.91576153 -3161.35945187 -3195.98997607\n",
            " -3357.69813892 -3219.58466727 -3438.20640455 -2651.85023551\n",
            " -3652.1430946  -3464.55635435]\n",
            "--------------------------------------------------\n",
            "7. Регуляризация с кросс-валидацией для выбора параметра alpha (Lasso или Ridge):\n",
            "Lasso Regression:\n",
            "Оптимальный alpha: 10.5235\n",
            "R-квадрат: 0.4732\n",
            "MSE: 3176.7067\n",
            "Количество ненулевых коэффициентов: 10\n",
            "--------------------------------------------------\n",
            "Ridge Regression:\n",
            "Оптимальный alpha: 10.0000\n",
            "R-квадрат: 0.4737\n",
            "MSE: 3173.8206\n",
            "--------------------------------------------------\n",
            "8. Полиномиальная регрессия:\n",
            "R-квадрат: 0.8989291668308254\n",
            "MSE: 0.19083179609662035\n",
            "--------------------------------------------------\n"
          ]
        }
      ]
    },
    {
      "cell_type": "markdown",
      "source": [
        "Вывод:\n",
        "Лучшая модель — множественная линейная регрессия (R² = 0.9039), поскольку она использует все доступные признаки и показывает наилучший баланс качества и простоты.\n",
        "Полиномиальная регрессия может быть полезной, но увеличивает сложность модели и риск переобучения.\n",
        "Lasso-регрессия показала, что можно использовать 10–11 признаков из 12, так как некоторые коэффициенты обнулились.\n",
        "\n",
        "Ключевые факторы, влияющие на CO(GT):\n",
        "C6H6(GT) (бензол) — главный предиктор.\n",
        "PT08.S1(CO), NOx(GT), NO2(GT) — индикаторы загрязнения.\n",
        "T, RH, AH — погодные условия также вносят вклад."
      ],
      "metadata": {
        "id": "qthcJVaP7p3E"
      }
    }
  ]
}