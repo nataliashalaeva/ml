{
  "nbformat": 4,
  "nbformat_minor": 0,
  "metadata": {
    "colab": {
      "provenance": [],
      "authorship_tag": "ABX9TyNbGVxcxko01j0qzextbhYJ",
      "include_colab_link": true
    },
    "kernelspec": {
      "name": "python3",
      "display_name": "Python 3"
    },
    "language_info": {
      "name": "python"
    }
  },
  "cells": [
    {
      "cell_type": "markdown",
      "metadata": {
        "id": "view-in-github",
        "colab_type": "text"
      },
      "source": [
        "<a href=\"https://colab.research.google.com/github/nataliashalaeva/ml/blob/main/lab_1.ipynb\" target=\"_parent\"><img src=\"https://colab.research.google.com/assets/colab-badge.svg\" alt=\"Open In Colab\"/></a>"
      ]
    },
    {
      "cell_type": "markdown",
      "source": [
        "Лабораторная работа №1\n",
        "Пакет Numpy"
      ],
      "metadata": {
        "id": "AIHjCchSxz5-"
      }
    },
    {
      "cell_type": "code",
      "source": [
        "import numpy as np"
      ],
      "metadata": {
        "id": "zxia1ocvx9ol"
      },
      "execution_count": 18,
      "outputs": []
    },
    {
      "cell_type": "code",
      "source": [
        "from numpy import random"
      ],
      "metadata": {
        "id": "OkqdPJRRqKuE"
      },
      "execution_count": 2,
      "outputs": []
    },
    {
      "cell_type": "markdown",
      "source": [
        "Создать вектор (одномерный массив) размера 10, заполненный\n",
        "нулями"
      ],
      "metadata": {
        "id": "sjZ_o8J8vfdc"
      }
    },
    {
      "cell_type": "code",
      "source": [
        "v1 = np.zeros(10)\n",
        "print(v1)"
      ],
      "metadata": {
        "colab": {
          "base_uri": "https://localhost:8080/"
        },
        "id": "PpIjipOBvI9O",
        "outputId": "84968f2c-a9bc-4c88-f0b0-4ed25b61feb3"
      },
      "execution_count": 3,
      "outputs": [
        {
          "output_type": "stream",
          "name": "stdout",
          "text": [
            "[0. 0. 0. 0. 0. 0. 0. 0. 0. 0.]\n"
          ]
        }
      ]
    },
    {
      "cell_type": "markdown",
      "source": [
        "Создать вектор (одномерный массив) размера 10, заполненный\n",
        "нулями, пятый элемент должен быть равен 1"
      ],
      "metadata": {
        "id": "oHXZ8CZOvlMU"
      }
    },
    {
      "cell_type": "code",
      "source": [
        "v2 = np.zeros(10)\n",
        "v2[4] = 1\n",
        "print(v2)"
      ],
      "metadata": {
        "colab": {
          "base_uri": "https://localhost:8080/"
        },
        "id": "ElvaEuQ6vJF3",
        "outputId": "e1fff5c9-3216-4757-99bd-4d46d42c95b4"
      },
      "execution_count": 4,
      "outputs": [
        {
          "output_type": "stream",
          "name": "stdout",
          "text": [
            "[0. 0. 0. 0. 1. 0. 0. 0. 0. 0.]\n"
          ]
        }
      ]
    },
    {
      "cell_type": "markdown",
      "source": [
        "Создать вектор (одномерный массив) размера 20. Заполнить его\n",
        "случайными значениями. Найти индексы ненулевых элементов"
      ],
      "metadata": {
        "id": "mRDzI-YyvpQ8"
      }
    },
    {
      "cell_type": "code",
      "source": [
        "v3 = np.random.rand(20)\n",
        "print(v3)\n",
        "print(np.nonzero(v3))"
      ],
      "metadata": {
        "colab": {
          "base_uri": "https://localhost:8080/"
        },
        "id": "UKo5heo_vJNl",
        "outputId": "495add44-8bcd-497c-ce0a-c9b581d3e744"
      },
      "execution_count": 20,
      "outputs": [
        {
          "output_type": "stream",
          "name": "stdout",
          "text": [
            "[0.59981771 0.7536292  0.09919824 0.10631524 0.36677032 0.45630618\n",
            " 0.23865493 0.15365936 0.78894669 0.51950108 0.79112867 0.2982125\n",
            " 0.00637645 0.38863873 0.98750901 0.47949803 0.03723172 0.89546502\n",
            " 0.10156712 0.94193706]\n",
            "(array([ 0,  1,  2,  3,  4,  5,  6,  7,  8,  9, 10, 11, 12, 13, 14, 15, 16,\n",
            "       17, 18, 19]),)\n"
          ]
        }
      ]
    },
    {
      "cell_type": "markdown",
      "source": [
        "Создать массив 3x3x3. Заполнить его случайными значениями"
      ],
      "metadata": {
        "id": "Vl3CeMucvyI9"
      }
    },
    {
      "cell_type": "code",
      "source": [
        "v4 = np.random.rand(3, 3, 3)\n",
        "print(v3)"
      ],
      "metadata": {
        "colab": {
          "base_uri": "https://localhost:8080/"
        },
        "id": "Tu25grYUv0cD",
        "outputId": "b4cf4152-3664-4daf-a876-1bc3fa0d5e45"
      },
      "execution_count": 6,
      "outputs": [
        {
          "output_type": "stream",
          "name": "stdout",
          "text": [
            "[0.2411213  0.05822097 0.24894237 0.40109481 0.31557758 0.79349287\n",
            " 0.0969652  0.56166215 0.84566191 0.58889812 0.29144759 0.85196217\n",
            " 0.13317934 0.909078   0.74326412 0.2174141  0.92541368 0.58685805\n",
            " 0.50239216 0.18426797]\n"
          ]
        }
      ]
    },
    {
      "cell_type": "markdown",
      "source": [
        "Создать вектор (одномерный массив) размера 10. Заполнить его\n",
        "случайными значениями. Найти среднее значение всех элементов"
      ],
      "metadata": {
        "id": "UKU8M_UXwA25"
      }
    },
    {
      "cell_type": "code",
      "source": [
        "v5 = np.random.rand(10)\n",
        "print(v5)\n",
        "print(np.mean(v5))"
      ],
      "metadata": {
        "colab": {
          "base_uri": "https://localhost:8080/"
        },
        "id": "ov_DKoFdwBt3",
        "outputId": "e49943d6-818d-49b4-daf7-754c7c04e3f6"
      },
      "execution_count": 19,
      "outputs": [
        {
          "output_type": "stream",
          "name": "stdout",
          "text": [
            "[0.92102421 0.49562299 0.16765158 0.94140148 0.13195758 0.0428089\n",
            " 0.60108808 0.35576673 0.971039   0.94572274]\n",
            "0.5574083285047794\n"
          ]
        }
      ]
    },
    {
      "cell_type": "markdown",
      "source": [
        "Создать две матрицы 5x3 и 3x2. Найти их произведение."
      ],
      "metadata": {
        "id": "fbrP5VWvwFDf"
      }
    },
    {
      "cell_type": "code",
      "source": [
        "v6_1 = np.random.randint(10, size=[5, 3])\n",
        "v6_2 = np.random.randint(10, size =[3, 2])\n",
        "print(v6_1)\n",
        "print(v6_2)\n",
        "print(np.dot(v6_1, v6_2))"
      ],
      "metadata": {
        "colab": {
          "base_uri": "https://localhost:8080/"
        },
        "id": "RnC1ZKAmwKlv",
        "outputId": "280a51d5-c80c-40f6-9f26-15bfd1cb33dd"
      },
      "execution_count": 25,
      "outputs": [
        {
          "output_type": "stream",
          "name": "stdout",
          "text": [
            "[[1 4 2]\n",
            " [2 8 7]\n",
            " [0 8 3]\n",
            " [6 8 9]\n",
            " [9 9 1]]\n",
            "[[3 1]\n",
            " [1 4]\n",
            " [2 4]]\n",
            "[[11 25]\n",
            " [28 62]\n",
            " [14 44]\n",
            " [44 74]\n",
            " [38 49]]\n"
          ]
        }
      ]
    },
    {
      "cell_type": "markdown",
      "source": [
        "Создать две матрицы 4x4 и 4x4. Найти их произведение. Найти\n",
        "диагональные элементы произведения матриц"
      ],
      "metadata": {
        "id": "wJ_9PS10wjsC"
      }
    },
    {
      "cell_type": "code",
      "source": [
        "v7_1 = np.random.randint(10, size =[4, 4])\n",
        "v7_2 = np.random.randint(10, size =[4, 4])\n",
        "v7 = np.dot(v7_1, v7_2)\n",
        "print(v7_1)\n",
        "print(v7_2)\n",
        "print(v7)\n",
        "print(np.diagonal(v7))"
      ],
      "metadata": {
        "colab": {
          "base_uri": "https://localhost:8080/"
        },
        "id": "avcVgAKowlfG",
        "outputId": "be2cf8c0-9576-41c5-ade0-d2dc38ac743d"
      },
      "execution_count": 27,
      "outputs": [
        {
          "output_type": "stream",
          "name": "stdout",
          "text": [
            "[[7 0 7 4]\n",
            " [0 9 0 3]\n",
            " [7 7 9 2]\n",
            " [9 6 2 1]]\n",
            "[[7 8 1 1]\n",
            " [6 6 7 7]\n",
            " [5 9 4 0]\n",
            " [4 8 1 0]]\n",
            "[[100 151  39   7]\n",
            " [ 66  78  66  63]\n",
            " [144 195  94  56]\n",
            " [113 134  60  51]]\n",
            "[100  78  94  51]\n"
          ]
        }
      ]
    },
    {
      "cell_type": "markdown",
      "source": [
        "Создать вектор (одномерный массив) размера 20. Заполнить его\n",
        "случайными значениями. Заменить максимальный элемент на ноль"
      ],
      "metadata": {
        "id": "C9crBSJvwvTN"
      }
    },
    {
      "cell_type": "code",
      "source": [
        "v8 = np.random.randint(50, size = 20)\n",
        "print(v8)\n",
        "v8[v8 == v8.max()] = 0\n",
        "print(v8)"
      ],
      "metadata": {
        "colab": {
          "base_uri": "https://localhost:8080/"
        },
        "id": "RJYURykRwxZh",
        "outputId": "1c9a67a0-d024-4c04-a24c-372a16b4b45c"
      },
      "execution_count": 10,
      "outputs": [
        {
          "output_type": "stream",
          "name": "stdout",
          "text": [
            "[38  8 29 39 29 35 35 16 46 29 31  2 14 17 26 21 23 20 17 34]\n",
            "[38  8 29 39 29 35 35 16  0 29 31  2 14 17 26 21 23 20 17 34]\n"
          ]
        }
      ]
    },
    {
      "cell_type": "markdown",
      "source": [
        "Создать вектор (одномерный массив) размера 20. Заполнить его\n",
        "случайными значениями. Напечатать все значения в массиве без повторений."
      ],
      "metadata": {
        "id": "96mvo5BFw1_s"
      }
    },
    {
      "cell_type": "code",
      "source": [
        "v9 = np.random.randint(10, size = 20)\n",
        "print(v9)\n",
        "print(np.unique(v9))"
      ],
      "metadata": {
        "colab": {
          "base_uri": "https://localhost:8080/"
        },
        "id": "MCGI92m9w4SJ",
        "outputId": "a58e1710-c00f-4585-e851-dbbd1bd26ebe"
      },
      "execution_count": 28,
      "outputs": [
        {
          "output_type": "stream",
          "name": "stdout",
          "text": [
            "[7 7 7 9 9 3 3 3 0 7 7 5 4 4 9 1 8 8 7 7]\n",
            "[0 1 3 4 5 7 8 9]\n"
          ]
        }
      ]
    },
    {
      "cell_type": "markdown",
      "source": [
        "Создать матрицу. Отнять среднее из каждой строки в матрице"
      ],
      "metadata": {
        "id": "tFpPL1zjw9ba"
      }
    },
    {
      "cell_type": "code",
      "source": [
        "v10 = np.random.randint(10, size = [4, 4])\n",
        "print(v10)\n",
        "v10 = v10 - np.mean(v10)\n",
        "print(v10)"
      ],
      "metadata": {
        "colab": {
          "base_uri": "https://localhost:8080/"
        },
        "id": "slQxvVR5w_Mh",
        "outputId": "5eeedde0-ff7e-4877-f913-02c0664a0f9f"
      },
      "execution_count": 29,
      "outputs": [
        {
          "output_type": "stream",
          "name": "stdout",
          "text": [
            "[[2 2 5 7]\n",
            " [4 8 4 9]\n",
            " [8 6 6 5]\n",
            " [6 7 7 1]]\n",
            "[[-3.4375 -3.4375 -0.4375  1.5625]\n",
            " [-1.4375  2.5625 -1.4375  3.5625]\n",
            " [ 2.5625  0.5625  0.5625 -0.4375]\n",
            " [ 0.5625  1.5625  1.5625 -4.4375]]\n"
          ]
        }
      ]
    },
    {
      "cell_type": "markdown",
      "source": [
        "Создать матрицу. Поменять две строки в матрице"
      ],
      "metadata": {
        "id": "fgf8hhnAxGxq"
      }
    },
    {
      "cell_type": "code",
      "source": [
        "v11 = np.random.randint(10, size = [4, 4])\n",
        "print(v11)\n",
        "v11[[0, 1]] = v11[[1, 0]]\n",
        "print(v11)"
      ],
      "metadata": {
        "colab": {
          "base_uri": "https://localhost:8080/"
        },
        "id": "zzl8d2S4xJJ6",
        "outputId": "5946edb3-cb93-4761-e15d-b2917d7eec30"
      },
      "execution_count": 13,
      "outputs": [
        {
          "output_type": "stream",
          "name": "stdout",
          "text": [
            "[[3 4 3 7]\n",
            " [8 6 2 8]\n",
            " [8 9 8 5]\n",
            " [6 7 5 9]]\n",
            "[[8 6 2 8]\n",
            " [3 4 3 7]\n",
            " [8 9 8 5]\n",
            " [6 7 5 9]]\n"
          ]
        }
      ]
    },
    {
      "cell_type": "markdown",
      "source": [
        "Создать вектор (одномерный массив) размера 20. Заполнить его\n",
        "случайными значениями. Найти n наибольших значений в векторе"
      ],
      "metadata": {
        "id": "WGyNbXpDxNEO"
      }
    },
    {
      "cell_type": "code",
      "source": [
        "v12 = np.random.randint(10, size=20)\n",
        "print(v12)\n",
        "np.sort(v12)[-3::]"
      ],
      "metadata": {
        "colab": {
          "base_uri": "https://localhost:8080/"
        },
        "id": "ectipKTSxPSP",
        "outputId": "73dde53c-5c98-4ce6-c7cd-53eb0a112109"
      },
      "execution_count": 14,
      "outputs": [
        {
          "output_type": "stream",
          "name": "stdout",
          "text": [
            "[4 1 3 2 1 5 9 1 6 4 7 8 1 7 7 7 4 9 4 8]\n"
          ]
        },
        {
          "output_type": "execute_result",
          "data": {
            "text/plain": [
              "array([8, 9, 9])"
            ]
          },
          "metadata": {},
          "execution_count": 14
        }
      ]
    },
    {
      "cell_type": "markdown",
      "source": [
        "Создать матрицу размера 5x5 и заполнить ее случайными целыми\n",
        "числами от 1 до 10. Найти сумму элементов каждой строки."
      ],
      "metadata": {
        "id": "tb-DvUuixYSN"
      }
    },
    {
      "cell_type": "code",
      "source": [
        "v13 = np.random.randint(1, 11, size = [5, 5])\n",
        "print(v13)\n",
        "np.sum(v13, axis = 1)"
      ],
      "metadata": {
        "colab": {
          "base_uri": "https://localhost:8080/"
        },
        "id": "rjxiu28Txat1",
        "outputId": "13259fb1-9c5a-4b9f-c4b0-50c5a01983f2"
      },
      "execution_count": 30,
      "outputs": [
        {
          "output_type": "stream",
          "name": "stdout",
          "text": [
            "[[ 9 10  2  3  7]\n",
            " [10  9  8  4  1]\n",
            " [ 2 10  5  6 10]\n",
            " [ 5 10  1  6  9]\n",
            " [10  8  6  6  2]]\n"
          ]
        },
        {
          "output_type": "execute_result",
          "data": {
            "text/plain": [
              "array([31, 32, 33, 31, 32])"
            ]
          },
          "metadata": {},
          "execution_count": 30
        }
      ]
    },
    {
      "cell_type": "markdown",
      "source": [
        "Создать вектор (одномерный массив) размера 10. Заполнить его\n",
        "случайными значениями от -1 до 1. Заменить отрицательные значения на -1,\n",
        "положительные на 1, и оставить нулевые значения без изменений."
      ],
      "metadata": {
        "id": "zMCMzu7xxdvc"
      }
    },
    {
      "cell_type": "code",
      "source": [
        "v14 = np.random.rand(10) *2-1\n",
        "print(v14)\n",
        "v14 = np.where(v14 > 0, 1, -1)\n",
        "print(v14)"
      ],
      "metadata": {
        "colab": {
          "base_uri": "https://localhost:8080/"
        },
        "id": "oba1j2nfxjRs",
        "outputId": "4477f9d4-4052-4578-9ef8-ce5103d69784"
      },
      "execution_count": 33,
      "outputs": [
        {
          "output_type": "stream",
          "name": "stdout",
          "text": [
            "[-0.29172336 -0.97554842 -0.01267307 -0.91932847 -0.52576479 -0.59019615\n",
            " -0.62942266 -0.09595803 -0.90361995  0.24423674]\n",
            "[-1 -1 -1 -1 -1 -1 -1 -1 -1  1]\n"
          ]
        }
      ]
    },
    {
      "cell_type": "markdown",
      "source": [
        "Создать вектор (одномерный массив) размера 12 и заполнить его\n",
        "случайными значениями от 1 до 100. Разделить вектор на 3 равные части и\n",
        "найти сумму элементов в каждой части."
      ],
      "metadata": {
        "id": "x1oCiW5txrPl"
      }
    },
    {
      "cell_type": "code",
      "source": [
        "v15 = np.random.randint(1, 101, size=12)\n",
        "print(v15)\n",
        "v15_1 = np.split(v15, 3)\n",
        "print(np.sum(v15_1, axis=1))"
      ],
      "metadata": {
        "colab": {
          "base_uri": "https://localhost:8080/"
        },
        "id": "8_qLkBUbxtHH",
        "outputId": "79738146-8509-4981-a429-767e9371a962"
      },
      "execution_count": 32,
      "outputs": [
        {
          "output_type": "stream",
          "name": "stdout",
          "text": [
            "[96 94 48 34 74 23 75 24 18 26  7 78]\n",
            "[272 196 129]\n"
          ]
        }
      ]
    }
  ]
}