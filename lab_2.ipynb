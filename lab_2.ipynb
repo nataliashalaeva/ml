{
  "nbformat": 4,
  "nbformat_minor": 0,
  "metadata": {
    "colab": {
      "provenance": [],
      "authorship_tag": "ABX9TyPS6hteFfZ0fV0kxIYaSgL3",
      "include_colab_link": true
    },
    "kernelspec": {
      "name": "python3",
      "display_name": "Python 3"
    },
    "language_info": {
      "name": "python"
    }
  },
  "cells": [
    {
      "cell_type": "markdown",
      "metadata": {
        "id": "view-in-github",
        "colab_type": "text"
      },
      "source": [
        "<a href=\"https://colab.research.google.com/github/nataliashalaeva/ml/blob/main/lab2.ipynb\" target=\"_parent\"><img src=\"https://colab.research.google.com/assets/colab-badge.svg\" alt=\"Open In Colab\"/></a>"
      ]
    },
    {
      "cell_type": "code",
      "execution_count": 47,
      "metadata": {
        "id": "WM3IWtsurkB2"
      },
      "outputs": [],
      "source": [
        "import pandas as pd\n",
        "import numpy as np"
      ]
    },
    {
      "cell_type": "markdown",
      "source": [
        "Загрузите данные из файла \"AirQualityUCI.csv\" в DataFrame pandas."
      ],
      "metadata": {
        "id": "yhKhgbMusdOj"
      }
    },
    {
      "cell_type": "code",
      "source": [
        "df = pd.read_csv(\"AirQualityUCI.csv\", sep=';')"
      ],
      "metadata": {
        "id": "Z8kOhZo8shAK"
      },
      "execution_count": 111,
      "outputs": []
    },
    {
      "cell_type": "markdown",
      "source": [
        "Выведите первые и последние 5 строк DataFrame\n"
      ],
      "metadata": {
        "id": "XnkwMgk7s7eW"
      }
    },
    {
      "cell_type": "code",
      "source": [
        "print(df.head())\n",
        "print(df.tail())"
      ],
      "metadata": {
        "colab": {
          "base_uri": "https://localhost:8080/"
        },
        "id": "ESERJzgqtD7n",
        "outputId": "8cca0f95-4715-40d0-96b0-8fea0d9a14a8"
      },
      "execution_count": 6,
      "outputs": [
        {
          "output_type": "stream",
          "name": "stdout",
          "text": [
            "         Date      Time CO(GT)  PT08.S1(CO)  NMHC(GT) C6H6(GT)  PT08.S2(NMHC)  \\\n",
            "0  10/03/2004  18.00.00    2,6       1360.0     150.0     11,9         1046.0   \n",
            "1  10/03/2004  19.00.00      2       1292.0     112.0      9,4          955.0   \n",
            "2  10/03/2004  20.00.00    2,2       1402.0      88.0      9,0          939.0   \n",
            "3  10/03/2004  21.00.00    2,2       1376.0      80.0      9,2          948.0   \n",
            "4  10/03/2004  22.00.00    1,6       1272.0      51.0      6,5          836.0   \n",
            "\n",
            "   NOx(GT)  PT08.S3(NOx)  NO2(GT)  PT08.S4(NO2)  PT08.S5(O3)     T    RH  \\\n",
            "0    166.0        1056.0    113.0        1692.0       1268.0  13,6  48,9   \n",
            "1    103.0        1174.0     92.0        1559.0        972.0  13,3  47,7   \n",
            "2    131.0        1140.0    114.0        1555.0       1074.0  11,9  54,0   \n",
            "3    172.0        1092.0    122.0        1584.0       1203.0  11,0  60,0   \n",
            "4    131.0        1205.0    116.0        1490.0       1110.0  11,2  59,6   \n",
            "\n",
            "       AH  Unnamed: 15  Unnamed: 16  \n",
            "0  0,7578          NaN          NaN  \n",
            "1  0,7255          NaN          NaN  \n",
            "2  0,7502          NaN          NaN  \n",
            "3  0,7867          NaN          NaN  \n",
            "4  0,7888          NaN          NaN  \n",
            "     Date Time CO(GT)  PT08.S1(CO)  NMHC(GT) C6H6(GT)  PT08.S2(NMHC)  NOx(GT)  \\\n",
            "9466  NaN  NaN    NaN          NaN       NaN      NaN            NaN      NaN   \n",
            "9467  NaN  NaN    NaN          NaN       NaN      NaN            NaN      NaN   \n",
            "9468  NaN  NaN    NaN          NaN       NaN      NaN            NaN      NaN   \n",
            "9469  NaN  NaN    NaN          NaN       NaN      NaN            NaN      NaN   \n",
            "9470  NaN  NaN    NaN          NaN       NaN      NaN            NaN      NaN   \n",
            "\n",
            "      PT08.S3(NOx)  NO2(GT)  PT08.S4(NO2)  PT08.S5(O3)    T   RH   AH  \\\n",
            "9466           NaN      NaN           NaN          NaN  NaN  NaN  NaN   \n",
            "9467           NaN      NaN           NaN          NaN  NaN  NaN  NaN   \n",
            "9468           NaN      NaN           NaN          NaN  NaN  NaN  NaN   \n",
            "9469           NaN      NaN           NaN          NaN  NaN  NaN  NaN   \n",
            "9470           NaN      NaN           NaN          NaN  NaN  NaN  NaN   \n",
            "\n",
            "      Unnamed: 15  Unnamed: 16  \n",
            "9466          NaN          NaN  \n",
            "9467          NaN          NaN  \n",
            "9468          NaN          NaN  \n",
            "9469          NaN          NaN  \n",
            "9470          NaN          NaN  \n"
          ]
        }
      ]
    },
    {
      "cell_type": "markdown",
      "source": [
        "Выведите общее количество строк (измерений) и столбцов (признаков) в DataFrame"
      ],
      "metadata": {
        "id": "_tWaDKPKubTp"
      }
    },
    {
      "cell_type": "code",
      "source": [
        "print(df.shape)"
      ],
      "metadata": {
        "colab": {
          "base_uri": "https://localhost:8080/"
        },
        "id": "qqAiPGL1ufGy",
        "outputId": "bb04b4cb-8ed8-4913-d9e7-041df22b6e41"
      },
      "execution_count": 7,
      "outputs": [
        {
          "output_type": "stream",
          "name": "stdout",
          "text": [
            "(9471, 17)\n"
          ]
        }
      ]
    },
    {
      "cell_type": "markdown",
      "source": [
        "Выведите список названий всех столбцов в DataFrame."
      ],
      "metadata": {
        "id": "4mYDQBMtuzrI"
      }
    },
    {
      "cell_type": "code",
      "source": [
        "print(df.columns.tolist())"
      ],
      "metadata": {
        "colab": {
          "base_uri": "https://localhost:8080/"
        },
        "id": "lnianlMyu2IM",
        "outputId": "c52b6860-c9f2-4bf1-ad12-719f690854b3"
      },
      "execution_count": 8,
      "outputs": [
        {
          "output_type": "stream",
          "name": "stdout",
          "text": [
            "['Date', 'Time', 'CO(GT)', 'PT08.S1(CO)', 'NMHC(GT)', 'C6H6(GT)', 'PT08.S2(NMHC)', 'NOx(GT)', 'PT08.S3(NOx)', 'NO2(GT)', 'PT08.S4(NO2)', 'PT08.S5(O3)', 'T', 'RH', 'AH', 'Unnamed: 15', 'Unnamed: 16']\n"
          ]
        }
      ]
    },
    {
      "cell_type": "markdown",
      "source": [
        "Проверьте, есть ли в DataFrame пропущенные значения. Выведите количество\n",
        "пропущенных значений для каждого столбца"
      ],
      "metadata": {
        "id": "HDqSiaK-u-dC"
      }
    },
    {
      "cell_type": "code",
      "source": [
        "print(df.isna().sum())"
      ],
      "metadata": {
        "colab": {
          "base_uri": "https://localhost:8080/"
        },
        "id": "ToKdIwoevBe9",
        "outputId": "458ffba1-379a-4cb3-8d79-477e0f4ecdc1"
      },
      "execution_count": 10,
      "outputs": [
        {
          "output_type": "stream",
          "name": "stdout",
          "text": [
            "Date              114\n",
            "Time              114\n",
            "CO(GT)            114\n",
            "PT08.S1(CO)       114\n",
            "NMHC(GT)          114\n",
            "C6H6(GT)          114\n",
            "PT08.S2(NMHC)     114\n",
            "NOx(GT)           114\n",
            "PT08.S3(NOx)      114\n",
            "NO2(GT)           114\n",
            "PT08.S4(NO2)      114\n",
            "PT08.S5(O3)       114\n",
            "T                 114\n",
            "RH                114\n",
            "AH                114\n",
            "Unnamed: 15      9471\n",
            "Unnamed: 16      9471\n",
            "dtype: int64\n"
          ]
        }
      ]
    },
    {
      "cell_type": "markdown",
      "source": [
        "Выведите основные статистические характеристики (среднее, медиана, стандартное\n",
        "отклонение, минимум, максимум, квартили) для числовых столбцов DataFrame."
      ],
      "metadata": {
        "id": "t_RovKIsvW4T"
      }
    },
    {
      "cell_type": "code",
      "source": [
        "print(df.describe())"
      ],
      "metadata": {
        "colab": {
          "base_uri": "https://localhost:8080/"
        },
        "id": "PuzmWiUUvazE",
        "outputId": "54441e69-c2c4-42a0-d37a-b550fbc2bfca"
      },
      "execution_count": 13,
      "outputs": [
        {
          "output_type": "stream",
          "name": "stdout",
          "text": [
            "       PT08.S1(CO)     NMHC(GT)  PT08.S2(NMHC)      NOx(GT)  PT08.S3(NOx)  \\\n",
            "count  9357.000000  9357.000000    9357.000000  9357.000000   9357.000000   \n",
            "mean   1048.990061  -159.090093     894.595276   168.616971    794.990168   \n",
            "std     329.832710   139.789093     342.333252   257.433866    321.993552   \n",
            "min    -200.000000  -200.000000    -200.000000  -200.000000   -200.000000   \n",
            "25%     921.000000  -200.000000     711.000000    50.000000    637.000000   \n",
            "50%    1053.000000  -200.000000     895.000000   141.000000    794.000000   \n",
            "75%    1221.000000  -200.000000    1105.000000   284.000000    960.000000   \n",
            "max    2040.000000  1189.000000    2214.000000  1479.000000   2683.000000   \n",
            "\n",
            "           NO2(GT)  PT08.S4(NO2)  PT08.S5(O3)  Unnamed: 15  Unnamed: 16  \n",
            "count  9357.000000   9357.000000  9357.000000          0.0          0.0  \n",
            "mean     58.148873   1391.479641   975.072032          NaN          NaN  \n",
            "std     126.940455    467.210125   456.938184          NaN          NaN  \n",
            "min    -200.000000   -200.000000  -200.000000          NaN          NaN  \n",
            "25%      53.000000   1185.000000   700.000000          NaN          NaN  \n",
            "50%      96.000000   1446.000000   942.000000          NaN          NaN  \n",
            "75%     133.000000   1662.000000  1255.000000          NaN          NaN  \n",
            "max     340.000000   2775.000000  2523.000000          NaN          NaN  \n"
          ]
        }
      ]
    },
    {
      "cell_type": "markdown",
      "source": [
        "Выведите сводную информацию о DataFrame, включая типы данных столбцов,\n",
        "количество непустых значений и объем занимаемой памяти."
      ],
      "metadata": {
        "id": "ditSxT1dvsx0"
      }
    },
    {
      "cell_type": "code",
      "source": [
        "df.info()"
      ],
      "metadata": {
        "colab": {
          "base_uri": "https://localhost:8080/"
        },
        "id": "yr-dbQ2Mvv8s",
        "outputId": "04811c32-babd-4c84-b099-ffb539b67449"
      },
      "execution_count": 14,
      "outputs": [
        {
          "output_type": "stream",
          "name": "stdout",
          "text": [
            "<class 'pandas.core.frame.DataFrame'>\n",
            "RangeIndex: 9471 entries, 0 to 9470\n",
            "Data columns (total 17 columns):\n",
            " #   Column         Non-Null Count  Dtype  \n",
            "---  ------         --------------  -----  \n",
            " 0   Date           9357 non-null   object \n",
            " 1   Time           9357 non-null   object \n",
            " 2   CO(GT)         9357 non-null   object \n",
            " 3   PT08.S1(CO)    9357 non-null   float64\n",
            " 4   NMHC(GT)       9357 non-null   float64\n",
            " 5   C6H6(GT)       9357 non-null   object \n",
            " 6   PT08.S2(NMHC)  9357 non-null   float64\n",
            " 7   NOx(GT)        9357 non-null   float64\n",
            " 8   PT08.S3(NOx)   9357 non-null   float64\n",
            " 9   NO2(GT)        9357 non-null   float64\n",
            " 10  PT08.S4(NO2)   9357 non-null   float64\n",
            " 11  PT08.S5(O3)    9357 non-null   float64\n",
            " 12  T              9357 non-null   object \n",
            " 13  RH             9357 non-null   object \n",
            " 14  AH             9357 non-null   object \n",
            " 15  Unnamed: 15    0 non-null      float64\n",
            " 16  Unnamed: 16    0 non-null      float64\n",
            "dtypes: float64(10), object(7)\n",
            "memory usage: 1.2+ MB\n"
          ]
        }
      ]
    },
    {
      "cell_type": "markdown",
      "source": [
        "Какие уникальные значения принимает признак \"T\" (температура)? Выведите все уникальные значения, их количество и частоту встречаемости"
      ],
      "metadata": {
        "id": "U5cn4WEHv9UQ"
      }
    },
    {
      "cell_type": "code",
      "source": [
        "print(df['T'].unique())\n",
        "print(df['T'].value_counts())"
      ],
      "metadata": {
        "colab": {
          "base_uri": "https://localhost:8080/"
        },
        "id": "fMX8qVK3wFJz",
        "outputId": "b7e57ee3-2f0b-4016-8467-29b011504d1f"
      },
      "execution_count": 108,
      "outputs": [
        {
          "output_type": "stream",
          "name": "stdout",
          "text": [
            "['13,6' '13,3' '11,9' '11,0' '11,2' '11,3' '10,7' '10,3' '10,1' '10,5'\n",
            " '10,2' '10,8' '9,5' '8,3' '8,0' '9,7' '9,8' '9,6' '9,1' '8,2' '7,7' '7,1'\n",
            " '7,0' '6,1' '6,3' '6,8' '6,4' '7,3' '9,2' '13,2' '14,3' '15,0' '16,1'\n",
            " '16,3' '15,8' '15,9' '16,9' '15,1' '14,4' '12,9' '12,1' '8,8' '7,8' '7,2'\n",
            " '6,5' '12,4' '15,6' '18,4' '19,4' '18,0' '17,6' '16,7' '15,7' '15,3'\n",
            " '14,6' '14,7' '13,9' '12,5' '11,6' '11,5' '10,4' '14,5' '19,3' '21,2'\n",
            " '21,4' '21,9' '22,2' '21,3' '19,7' '14,8' '14,0' '13,4' '12,6' '12,3'\n",
            " '11,4' '17,4' '19,8' '22,0' '23,3' '23,9' '24,4' '23,8' '22,5' '20,4'\n",
            " '18,3' '14,1' '12,8' '11,7' '17,8' '25,3' '25,8' '27,0' '28,2' '28,0'\n",
            " '19,0' '17,9' '15,5' '13,1' '12,7' '11,8' '9,9' '11,1' '17,7' '21,1'\n",
            " '24,3' '25,6' '25,9' '26,8' '29,3' '28,5' '23,1' '20,5' '19,1' '17,2'\n",
            " '16,0' '12,0' '10,9' '10,6' '20,8' '24,2' '25,2' '27,1' '23,0' '20,7'\n",
            " '18,6' '13,0' '16,4' '15,4' '15,2' '14,2' '13,8' '13,5' '17,1' '19,5'\n",
            " '18,5' '16,2' '14,9' '18,9' '20,3' '17,0' '16,5' '21,0' '20,2' '10,0'\n",
            " '13,7' '16,6' '9,3' '7,6' '8,1' '8,7' '8,6' '12,2' '9,4' '8,5' '16,8'\n",
            " '19,2' '7,9' '7,4' '18,7' '18,2' '17,5' '22,4' '20,9' '18,1' '17,3' '9,0'\n",
            " '20,6' '21,8' '-200' '23,6' '22,8' '22,9' '24,7' '26,1' '27,6' '26,9'\n",
            " '24,8' '25,0' '25,1' '23,7' '22,1' '19,9' '21,5' '21,6' '18,8' '19,6'\n",
            " '22,7' '22,3' '22,6' '26,3' '27,3' '28,1' '28,3' '30,8' '31,3' '29,4'\n",
            " '29,7' '29,2' '29,6' '30,0' '29,5' '24,9' '20,0' '27,2' '27,5' '23,4'\n",
            " '25,4' '25,7' '24,5' '26,7' '27,4' '27,7' '28,4' '21,7' '24,6' '26,0'\n",
            " '25,5' '30,3' '30,9' '30,2' '26,4' '23,5' '26,5' '30,6' '29,9' '31,5'\n",
            " '31,2' '30,4' '32,2' '31,7' '30,1' '31,0' '31,6' '28,8' '28,6' '31,1'\n",
            " '32,4' '32,6' '24,1' '20,1' '32,8' '32,5' '27,9' '28,9' '32,3' '32,1'\n",
            " '31,8' '23,2' '28,7' '29,1' '29,8' '32,0' '30,5' '30,7' '24,0' '31,4'\n",
            " '26,2' '29,0' '26,6' '27,8' '34,4' '33,7' '35,9' '34,3' '33,5' '37,5'\n",
            " '37,7' '37,8' '36,6' '34,7' '37,2' '39,5' '40,6' '40,3' '39,6' '37,3'\n",
            " '35,4' '37,9' '39,7' '40,4' '40,0' '38,9' '35,8' '33,1' '37,4' '36,4'\n",
            " '34,2' '31,9' '35,1' '36,0' '37,0' '35,2' '33,9' '35,3' '34,0' '32,7'\n",
            " '33,6' '33,0' '33,2' '33,3' '34,9' '36,1' '37,6' '35,6' '34,8' '33,4'\n",
            " '32,9' '35,5' '36,2' '34,5' '36,3' '38,3' '38,4' '39,0' '41,3' '41,8'\n",
            " '42,2' '41,4' '40,1' '39,9' '39,1' '38,0' '37,1' '36,9' '39,3' '38,5'\n",
            " '38,8' '38,1' '34,6' '34,1' '38,2' '40,2' '42,6' '42,5' '41,0' '39,2'\n",
            " '41,1' '41,9' '40,9' '33,8' '35,7' '36,5' '39,4' '36,8' '40,5' '39,8'\n",
            " '41,7' '42,8' '42,0' '42,7' '41,6' '44,3' '44,6' '43,4' '43,1' '38,7'\n",
            " '38,6' '35,0' '36,7' '40,7' '5,6' '5,1' '4,4' '4,1' '3,2' '3,7' '4,9'\n",
            " '6,9' '6,7' '7,5' '8,9' '8,4' '6,2' '5,7' '5,9' '6,6' '5,2' '5,3' '4,2'\n",
            " '3,1' '3,5' '1,8' '1,3' '3,9' '3,3' '2,6' '4,5' '5,4' '6,0' '4,3' '4,0'\n",
            " '4,8' '2,2' '2,5' '5,0' '5,8' '4,7' '5,5' '3,0' '2,3' '1,5' '2,8' '1,2'\n",
            " '1,4' '2,4' '2,1' '3,4' '3,6' '4,6' '2,7' '1,9' '1,6' '1,0' '1,7' '2,9'\n",
            " '3,8' '2,0' '0,8' '0,6' '0,3' '0,9' '1,1' '0,7' '0,2' '0,1' '-0,1' '-0,3'\n",
            " '-0,6' '-0,2' '0,0' '-1,1' '-1,4' '-1,3' '-1,2' '-1,9' '-0,5' '0,5' nan]\n",
            "T\n",
            "-200    366\n",
            "20,8     57\n",
            "21,3     54\n",
            "13,8     51\n",
            "20,2     51\n",
            "       ... \n",
            "43,4      1\n",
            "43,1      1\n",
            "36,7      1\n",
            "40,7      1\n",
            "0,5       1\n",
            "Name: count, Length: 437, dtype: int64\n"
          ]
        }
      ]
    },
    {
      "cell_type": "markdown",
      "source": [
        "Выведите строки DataFrame, где уровень концентрации оксида углерода (CO(GT))\n",
        "превышает 3 мг/м³, а температура (T) ниже 20°C."
      ],
      "metadata": {
        "id": "zTbybGKzwvaA"
      }
    },
    {
      "cell_type": "code",
      "source": [
        "df['CO(GT)'] = pd.to_numeric(df['CO(GT)'], errors='coerce')\n",
        "df['T'] = pd.to_numeric(df['T'], errors='coerce')\n",
        "df = df.dropna(subset=['CO(GT)', 'T'])\n",
        "\n",
        "print(df[(df['CO(GT)'] > 3) & (df['T'] < 20)])"
      ],
      "metadata": {
        "colab": {
          "base_uri": "https://localhost:8080/"
        },
        "id": "CVHCdVZexGPk",
        "outputId": "c5b0be54-e7a1-482a-81dc-8f163bcbb610"
      },
      "execution_count": 109,
      "outputs": [
        {
          "output_type": "stream",
          "name": "stdout",
          "text": [
            "            Date      Time  CO(GT)  PT08.S1(CO)  NMHC(GT) C6H6(GT)  \\\n",
            "6715  15/12/2004  13.00.00     4.0       -200.0    -200.0   -200,0   \n",
            "6717  15/12/2004  15.00.00     4.0       -200.0    -200.0   -200,0   \n",
            "6760  17/12/2004  10.00.00     5.0       -200.0    -200.0   -200,0   \n",
            "\n",
            "      PT08.S2(NMHC)  NOx(GT)  PT08.S3(NOx)  NO2(GT)  PT08.S4(NO2)  \\\n",
            "6715         -200.0    820.0        -200.0    169.0        -200.0   \n",
            "6717         -200.0    842.0        -200.0    183.0        -200.0   \n",
            "6760         -200.0    937.0        -200.0    164.0        -200.0   \n",
            "\n",
            "      PT08.S5(O3)      T    RH    AH  Unnamed: 15  Unnamed: 16  \n",
            "6715       -200.0 -200.0  -200  -200          NaN          NaN  \n",
            "6717       -200.0 -200.0  -200  -200          NaN          NaN  \n",
            "6760       -200.0 -200.0  -200  -200          NaN          NaN  \n"
          ]
        }
      ]
    },
    {
      "cell_type": "markdown",
      "source": [
        "Создайте новый признак \"NOx_CO_ratio\", который будет представлять собой\n",
        "отношение уровня концентрации оксидов азота (NOx(GT)) к уровню концентрации оксида\n",
        "углерода (CO(GT))."
      ],
      "metadata": {
        "id": "Y8g8UO0AyL-s"
      }
    },
    {
      "cell_type": "code",
      "source": [
        "df['NOx(GT)'] = pd.to_numeric(df['NOx(GT)'], errors='coerce')\n",
        "df['CO(GT)'] = pd.to_numeric(df['CO(GT)'], errors='coerce')\n",
        "\n",
        "df['NOx_CO_ratio'] = df['NOx(GT)'] / df['CO(GT)']\n",
        "df['NOx_CO_ratio']\n"
      ],
      "metadata": {
        "colab": {
          "base_uri": "https://localhost:8080/",
          "height": 458
        },
        "id": "_vYJru_fyPkS",
        "outputId": "e7cc7f14-1688-4756-fa18-0249a50d6bff"
      },
      "execution_count": 38,
      "outputs": [
        {
          "output_type": "execute_result",
          "data": {
            "text/plain": [
              "0        NaN\n",
              "1       51.5\n",
              "2        NaN\n",
              "3        NaN\n",
              "4        NaN\n",
              "        ... \n",
              "9466     NaN\n",
              "9467     NaN\n",
              "9468     NaN\n",
              "9469     NaN\n",
              "9470     NaN\n",
              "Name: NOx_CO_ratio, Length: 9471, dtype: float64"
            ],
            "text/html": [
              "<div>\n",
              "<style scoped>\n",
              "    .dataframe tbody tr th:only-of-type {\n",
              "        vertical-align: middle;\n",
              "    }\n",
              "\n",
              "    .dataframe tbody tr th {\n",
              "        vertical-align: top;\n",
              "    }\n",
              "\n",
              "    .dataframe thead th {\n",
              "        text-align: right;\n",
              "    }\n",
              "</style>\n",
              "<table border=\"1\" class=\"dataframe\">\n",
              "  <thead>\n",
              "    <tr style=\"text-align: right;\">\n",
              "      <th></th>\n",
              "      <th>NOx_CO_ratio</th>\n",
              "    </tr>\n",
              "  </thead>\n",
              "  <tbody>\n",
              "    <tr>\n",
              "      <th>0</th>\n",
              "      <td>NaN</td>\n",
              "    </tr>\n",
              "    <tr>\n",
              "      <th>1</th>\n",
              "      <td>51.5</td>\n",
              "    </tr>\n",
              "    <tr>\n",
              "      <th>2</th>\n",
              "      <td>NaN</td>\n",
              "    </tr>\n",
              "    <tr>\n",
              "      <th>3</th>\n",
              "      <td>NaN</td>\n",
              "    </tr>\n",
              "    <tr>\n",
              "      <th>4</th>\n",
              "      <td>NaN</td>\n",
              "    </tr>\n",
              "    <tr>\n",
              "      <th>...</th>\n",
              "      <td>...</td>\n",
              "    </tr>\n",
              "    <tr>\n",
              "      <th>9466</th>\n",
              "      <td>NaN</td>\n",
              "    </tr>\n",
              "    <tr>\n",
              "      <th>9467</th>\n",
              "      <td>NaN</td>\n",
              "    </tr>\n",
              "    <tr>\n",
              "      <th>9468</th>\n",
              "      <td>NaN</td>\n",
              "    </tr>\n",
              "    <tr>\n",
              "      <th>9469</th>\n",
              "      <td>NaN</td>\n",
              "    </tr>\n",
              "    <tr>\n",
              "      <th>9470</th>\n",
              "      <td>NaN</td>\n",
              "    </tr>\n",
              "  </tbody>\n",
              "</table>\n",
              "<p>9471 rows × 1 columns</p>\n",
              "</div><br><label><b>dtype:</b> float64</label>"
            ]
          },
          "metadata": {},
          "execution_count": 38
        }
      ]
    },
    {
      "cell_type": "markdown",
      "source": [
        "новый размер DataFrame после добавления нового столбца."
      ],
      "metadata": {
        "id": "aSUXgD63zdUR"
      }
    },
    {
      "cell_type": "code",
      "source": [
        "print(df.shape)"
      ],
      "metadata": {
        "colab": {
          "base_uri": "https://localhost:8080/"
        },
        "id": "e9-dQggM3dW3",
        "outputId": "3e80b3cc-8727-4ac8-8cb7-672de194d6bc"
      },
      "execution_count": 39,
      "outputs": [
        {
          "output_type": "stream",
          "name": "stdout",
          "text": [
            "(9471, 18)\n"
          ]
        }
      ]
    },
    {
      "cell_type": "markdown",
      "source": [
        "Какое значение температуры (T) встречается в датасете чаще всего?"
      ],
      "metadata": {
        "id": "Pn3COsMR0L_k"
      }
    },
    {
      "cell_type": "code",
      "source": [
        "df['T'] = df['T'].replace('-200', np.nan)\n",
        "temperature_mode = df['T'].mode()\n",
        "print(df['T'].mode()[0])"
      ],
      "metadata": {
        "colab": {
          "base_uri": "https://localhost:8080/"
        },
        "id": "tbJFzfR00OxN",
        "outputId": "1239c135-42af-4fca-f0ce-926bebd990d8"
      },
      "execution_count": 112,
      "outputs": [
        {
          "output_type": "stream",
          "name": "stdout",
          "text": [
            "20,8\n"
          ]
        }
      ]
    },
    {
      "cell_type": "markdown",
      "source": [
        "Найдите количество строк, в которых отсутствуют данные о концентрации бензола\n",
        "(C6H6(GT)). Выведите информацию об этих строках. (пропущенные значения могут быть\n",
        "представлены как -200)\n"
      ],
      "metadata": {
        "id": "y752AovY0YDW"
      }
    },
    {
      "cell_type": "code",
      "source": [
        "print(df[df['C6H6(GT)'].isnull()])"
      ],
      "metadata": {
        "colab": {
          "base_uri": "https://localhost:8080/"
        },
        "id": "IHC01Y3m0aQ6",
        "outputId": "5c0dfa74-810e-4365-a429-b5e8ceb9fa6a"
      },
      "execution_count": 81,
      "outputs": [
        {
          "output_type": "stream",
          "name": "stdout",
          "text": [
            "     Date Time CO(GT)  PT08.S1(CO)  NMHC(GT) C6H6(GT)  PT08.S2(NMHC)  NOx(GT)  \\\n",
            "9357  NaN  NaN    NaN          NaN       NaN      NaN            NaN      NaN   \n",
            "9358  NaN  NaN    NaN          NaN       NaN      NaN            NaN      NaN   \n",
            "9359  NaN  NaN    NaN          NaN       NaN      NaN            NaN      NaN   \n",
            "9360  NaN  NaN    NaN          NaN       NaN      NaN            NaN      NaN   \n",
            "9361  NaN  NaN    NaN          NaN       NaN      NaN            NaN      NaN   \n",
            "...   ...  ...    ...          ...       ...      ...            ...      ...   \n",
            "9466  NaN  NaN    NaN          NaN       NaN      NaN            NaN      NaN   \n",
            "9467  NaN  NaN    NaN          NaN       NaN      NaN            NaN      NaN   \n",
            "9468  NaN  NaN    NaN          NaN       NaN      NaN            NaN      NaN   \n",
            "9469  NaN  NaN    NaN          NaN       NaN      NaN            NaN      NaN   \n",
            "9470  NaN  NaN    NaN          NaN       NaN      NaN            NaN      NaN   \n",
            "\n",
            "      PT08.S3(NOx)  NO2(GT)  PT08.S4(NO2)  PT08.S5(O3)    T   RH   AH  \\\n",
            "9357           NaN      NaN           NaN          NaN  NaN  NaN  NaN   \n",
            "9358           NaN      NaN           NaN          NaN  NaN  NaN  NaN   \n",
            "9359           NaN      NaN           NaN          NaN  NaN  NaN  NaN   \n",
            "9360           NaN      NaN           NaN          NaN  NaN  NaN  NaN   \n",
            "9361           NaN      NaN           NaN          NaN  NaN  NaN  NaN   \n",
            "...            ...      ...           ...          ...  ...  ...  ...   \n",
            "9466           NaN      NaN           NaN          NaN  NaN  NaN  NaN   \n",
            "9467           NaN      NaN           NaN          NaN  NaN  NaN  NaN   \n",
            "9468           NaN      NaN           NaN          NaN  NaN  NaN  NaN   \n",
            "9469           NaN      NaN           NaN          NaN  NaN  NaN  NaN   \n",
            "9470           NaN      NaN           NaN          NaN  NaN  NaN  NaN   \n",
            "\n",
            "      Unnamed: 15  Unnamed: 16  \n",
            "9357          NaN          NaN  \n",
            "9358          NaN          NaN  \n",
            "9359          NaN          NaN  \n",
            "9360          NaN          NaN  \n",
            "9361          NaN          NaN  \n",
            "...           ...          ...  \n",
            "9466          NaN          NaN  \n",
            "9467          NaN          NaN  \n",
            "9468          NaN          NaN  \n",
            "9469          NaN          NaN  \n",
            "9470          NaN          NaN  \n",
            "\n",
            "[114 rows x 17 columns]\n"
          ]
        }
      ]
    },
    {
      "cell_type": "markdown",
      "source": [
        "Найдите минимальный уровень концентрации оксида углерода (CO(GT)) при\n",
        "температуре выше 25°C. Выведите информацию об этих измерениях."
      ],
      "metadata": {
        "id": "W2LuN01d8goe"
      }
    },
    {
      "cell_type": "code",
      "source": [
        "df['T'] = df['T'].str.replace(',', '.')\n",
        "df['T'] = pd.to_numeric(df['T'], errors='coerce')\n"
      ],
      "metadata": {
        "id": "8EKLkdBeA1Df"
      },
      "execution_count": null,
      "outputs": []
    },
    {
      "cell_type": "code",
      "source": [
        "df['CO(GT)'] = df['CO(GT)'].str.replace(',', '.')\n",
        "df['CO(GT)'] = pd.to_numeric(df['CO(GT)'], errors='coerce')\n"
      ],
      "metadata": {
        "id": "eR7yPShkBMSP"
      },
      "execution_count": 128,
      "outputs": []
    },
    {
      "cell_type": "code",
      "source": [
        "df['NMHC(GT)'] = pd.to_numeric(df['NMHC(GT)'], errors='coerce')\n",
        "df['NMHC(GT)'] = df['NMHC(GT)'].replace(-200, np.nan)"
      ],
      "metadata": {
        "id": "0JfhZ2heBcOt"
      },
      "execution_count": 131,
      "outputs": []
    },
    {
      "cell_type": "code",
      "source": [
        "df['CO(GT)'] = df['CO(GT)'].replace(-200, np.nan)\n",
        "\n",
        "print(df[df['T'] > 25].loc[df[df['T'] > 25]['CO(GT)'].idxmin()])"
      ],
      "metadata": {
        "colab": {
          "base_uri": "https://localhost:8080/"
        },
        "id": "jaBus1y--_3r",
        "outputId": "9984f60b-8aa0-40c9-fc1e-4d7f1bcf0b57"
      },
      "execution_count": 132,
      "outputs": [
        {
          "output_type": "stream",
          "name": "stdout",
          "text": [
            "Date             30/05/2004\n",
            "Time               13.00.00\n",
            "CO(GT)                  0.1\n",
            "PT08.S1(CO)           771.0\n",
            "NMHC(GT)                NaN\n",
            "C6H6(GT)                2,6\n",
            "PT08.S2(NMHC)         626.0\n",
            "NOx(GT)                34.0\n",
            "PT08.S3(NOx)         1502.0\n",
            "NO2(GT)                41.0\n",
            "PT08.S4(NO2)         1210.0\n",
            "PT08.S5(O3)           430.0\n",
            "T                      29.1\n",
            "RH                     19,6\n",
            "AH                   0,7771\n",
            "Unnamed: 15             NaN\n",
            "Unnamed: 16             NaN\n",
            "Name: 1939, dtype: object\n"
          ]
        }
      ]
    },
    {
      "cell_type": "code",
      "source": [
        "print(df['CO(GT)'].unique())"
      ],
      "metadata": {
        "colab": {
          "base_uri": "https://localhost:8080/"
        },
        "id": "XwZl9ZtWBB-m",
        "outputId": "eb85818a-5fc8-455e-c8f6-b8a92d79fd25"
      },
      "execution_count": 133,
      "outputs": [
        {
          "output_type": "stream",
          "name": "stdout",
          "text": [
            "[ 2.6  2.   2.2  1.6  1.2  1.   0.9  0.6  nan  0.7  1.1  1.7  1.5  1.9\n",
            "  2.9  4.8  6.9  6.1  3.9  1.4  0.8  4.4  3.1  2.7  2.1  2.5  2.8  2.4\n",
            "  3.7  6.6  3.5  5.4  3.2  4.1  3.6  2.3  4.2  1.8  3.   4.6  5.9  3.4\n",
            "  5.5  8.1  5.8  8.   6.5  1.3  5.3  3.3  4.   3.8  5.1  0.5  4.3  5.\n",
            "  7.6  6.7  5.7  4.7  4.5  6.2  0.4  0.3  5.2  4.9  6.3  7.3  6.4  6.\n",
            "  5.6  7.2  0.2  0.1  7.5  7.   7.7  6.8  8.4  7.9  9.5  9.2  8.7  7.8\n",
            " 10.2  8.3  8.6 11.9 11.5 10.1  9.4  9.9  7.4  9.3  9.1  8.5  7.1]\n"
          ]
        }
      ]
    },
    {
      "cell_type": "markdown",
      "source": [
        "Найдите количество измерений, в которых относительная влажность (RH) превышает 90%. Выведите информацию об этих измерениях.\n"
      ],
      "metadata": {
        "id": "9zpAkZ6-Bz58"
      }
    },
    {
      "cell_type": "code",
      "source": [
        "high_rh_df = df[pd.to_numeric(df['RH'], errors='coerce') > 90]\n",
        "print(high_rh_df.shape[0])"
      ],
      "metadata": {
        "colab": {
          "base_uri": "https://localhost:8080/"
        },
        "id": "rQXftl0fCe6_",
        "outputId": "b0ce7ae0-ec6f-4ee1-e6da-050a3b7fc2eb"
      },
      "execution_count": 134,
      "outputs": [
        {
          "output_type": "stream",
          "name": "stdout",
          "text": [
            "0\n"
          ]
        }
      ]
    },
    {
      "cell_type": "markdown",
      "source": [
        "Найдите разницу между средним уровнем концентрации оксида углерода (CO(GT))\n",
        "при температуре выше и ниже 20°C. Округлите результат до двух знаков после запятой.\n"
      ],
      "metadata": {
        "id": "yiBI7T1lDGwX"
      }
    },
    {
      "cell_type": "code",
      "source": [
        "mean_co_above_20 = df[df['T'] > 20]['CO(GT)'].mean()\n",
        "mean_co_below_20 = df[df['T'] <= 20]['CO(GT)'].mean()\n",
        "difference = round(mean_co_above_20 - mean_co_below_20, 2)\n",
        "print(difference)\n",
        "mean_co_above_20, mean_co_below_20"
      ],
      "metadata": {
        "colab": {
          "base_uri": "https://localhost:8080/"
        },
        "id": "qUXmM3IVDIqI",
        "outputId": "017aaa7b-8f33-4812-a3cd-a4c2d0d01491"
      },
      "execution_count": 147,
      "outputs": [
        {
          "output_type": "stream",
          "name": "stdout",
          "text": [
            "-0.01\n"
          ]
        },
        {
          "output_type": "execute_result",
          "data": {
            "text/plain": [
              "(2.1209261223047013, 2.1352159468438536)"
            ]
          },
          "metadata": {},
          "execution_count": 147
        }
      ]
    },
    {
      "cell_type": "markdown",
      "source": [
        "Создайте признак \"High_Ozone\", который будет равен 1, если уровень концентрации\n",
        "озона (PT08.S5(O3)) превышает среднее значение, и 0 в противном случае"
      ],
      "metadata": {
        "id": "crQbxf81DR9G"
      }
    },
    {
      "cell_type": "code",
      "source": [
        "df['High_Ozone'] = (df['PT08.S5(O3)'] > df['PT08.S5(O3)'].mean()).astype(int)\n",
        "df[['High_Ozone','PT08.S5(O3)']].head()"
      ],
      "metadata": {
        "colab": {
          "base_uri": "https://localhost:8080/",
          "height": 206
        },
        "id": "nxNAcvzLDYCS",
        "outputId": "44a00398-b0f1-4388-dabc-85f46825c291"
      },
      "execution_count": 155,
      "outputs": [
        {
          "output_type": "execute_result",
          "data": {
            "text/plain": [
              "   High_Ozone  PT08.S5(O3)\n",
              "0           1       1268.0\n",
              "1           0        972.0\n",
              "2           1       1074.0\n",
              "3           1       1203.0\n",
              "4           1       1110.0"
            ],
            "text/html": [
              "\n",
              "  <div id=\"df-ad3fa70c-3afc-4ef7-98dd-af3de95084aa\" class=\"colab-df-container\">\n",
              "    <div>\n",
              "<style scoped>\n",
              "    .dataframe tbody tr th:only-of-type {\n",
              "        vertical-align: middle;\n",
              "    }\n",
              "\n",
              "    .dataframe tbody tr th {\n",
              "        vertical-align: top;\n",
              "    }\n",
              "\n",
              "    .dataframe thead th {\n",
              "        text-align: right;\n",
              "    }\n",
              "</style>\n",
              "<table border=\"1\" class=\"dataframe\">\n",
              "  <thead>\n",
              "    <tr style=\"text-align: right;\">\n",
              "      <th></th>\n",
              "      <th>High_Ozone</th>\n",
              "      <th>PT08.S5(O3)</th>\n",
              "    </tr>\n",
              "  </thead>\n",
              "  <tbody>\n",
              "    <tr>\n",
              "      <th>0</th>\n",
              "      <td>1</td>\n",
              "      <td>1268.0</td>\n",
              "    </tr>\n",
              "    <tr>\n",
              "      <th>1</th>\n",
              "      <td>0</td>\n",
              "      <td>972.0</td>\n",
              "    </tr>\n",
              "    <tr>\n",
              "      <th>2</th>\n",
              "      <td>1</td>\n",
              "      <td>1074.0</td>\n",
              "    </tr>\n",
              "    <tr>\n",
              "      <th>3</th>\n",
              "      <td>1</td>\n",
              "      <td>1203.0</td>\n",
              "    </tr>\n",
              "    <tr>\n",
              "      <th>4</th>\n",
              "      <td>1</td>\n",
              "      <td>1110.0</td>\n",
              "    </tr>\n",
              "  </tbody>\n",
              "</table>\n",
              "</div>\n",
              "    <div class=\"colab-df-buttons\">\n",
              "\n",
              "  <div class=\"colab-df-container\">\n",
              "    <button class=\"colab-df-convert\" onclick=\"convertToInteractive('df-ad3fa70c-3afc-4ef7-98dd-af3de95084aa')\"\n",
              "            title=\"Convert this dataframe to an interactive table.\"\n",
              "            style=\"display:none;\">\n",
              "\n",
              "  <svg xmlns=\"http://www.w3.org/2000/svg\" height=\"24px\" viewBox=\"0 -960 960 960\">\n",
              "    <path d=\"M120-120v-720h720v720H120Zm60-500h600v-160H180v160Zm220 220h160v-160H400v160Zm0 220h160v-160H400v160ZM180-400h160v-160H180v160Zm440 0h160v-160H620v160ZM180-180h160v-160H180v160Zm440 0h160v-160H620v160Z\"/>\n",
              "  </svg>\n",
              "    </button>\n",
              "\n",
              "  <style>\n",
              "    .colab-df-container {\n",
              "      display:flex;\n",
              "      gap: 12px;\n",
              "    }\n",
              "\n",
              "    .colab-df-convert {\n",
              "      background-color: #E8F0FE;\n",
              "      border: none;\n",
              "      border-radius: 50%;\n",
              "      cursor: pointer;\n",
              "      display: none;\n",
              "      fill: #1967D2;\n",
              "      height: 32px;\n",
              "      padding: 0 0 0 0;\n",
              "      width: 32px;\n",
              "    }\n",
              "\n",
              "    .colab-df-convert:hover {\n",
              "      background-color: #E2EBFA;\n",
              "      box-shadow: 0px 1px 2px rgba(60, 64, 67, 0.3), 0px 1px 3px 1px rgba(60, 64, 67, 0.15);\n",
              "      fill: #174EA6;\n",
              "    }\n",
              "\n",
              "    .colab-df-buttons div {\n",
              "      margin-bottom: 4px;\n",
              "    }\n",
              "\n",
              "    [theme=dark] .colab-df-convert {\n",
              "      background-color: #3B4455;\n",
              "      fill: #D2E3FC;\n",
              "    }\n",
              "\n",
              "    [theme=dark] .colab-df-convert:hover {\n",
              "      background-color: #434B5C;\n",
              "      box-shadow: 0px 1px 3px 1px rgba(0, 0, 0, 0.15);\n",
              "      filter: drop-shadow(0px 1px 2px rgba(0, 0, 0, 0.3));\n",
              "      fill: #FFFFFF;\n",
              "    }\n",
              "  </style>\n",
              "\n",
              "    <script>\n",
              "      const buttonEl =\n",
              "        document.querySelector('#df-ad3fa70c-3afc-4ef7-98dd-af3de95084aa button.colab-df-convert');\n",
              "      buttonEl.style.display =\n",
              "        google.colab.kernel.accessAllowed ? 'block' : 'none';\n",
              "\n",
              "      async function convertToInteractive(key) {\n",
              "        const element = document.querySelector('#df-ad3fa70c-3afc-4ef7-98dd-af3de95084aa');\n",
              "        const dataTable =\n",
              "          await google.colab.kernel.invokeFunction('convertToInteractive',\n",
              "                                                    [key], {});\n",
              "        if (!dataTable) return;\n",
              "\n",
              "        const docLinkHtml = 'Like what you see? Visit the ' +\n",
              "          '<a target=\"_blank\" href=https://colab.research.google.com/notebooks/data_table.ipynb>data table notebook</a>'\n",
              "          + ' to learn more about interactive tables.';\n",
              "        element.innerHTML = '';\n",
              "        dataTable['output_type'] = 'display_data';\n",
              "        await google.colab.output.renderOutput(dataTable, element);\n",
              "        const docLink = document.createElement('div');\n",
              "        docLink.innerHTML = docLinkHtml;\n",
              "        element.appendChild(docLink);\n",
              "      }\n",
              "    </script>\n",
              "  </div>\n",
              "\n",
              "\n",
              "<div id=\"df-0534ebe6-f3bc-494d-b71b-3d269dfd09a8\">\n",
              "  <button class=\"colab-df-quickchart\" onclick=\"quickchart('df-0534ebe6-f3bc-494d-b71b-3d269dfd09a8')\"\n",
              "            title=\"Suggest charts\"\n",
              "            style=\"display:none;\">\n",
              "\n",
              "<svg xmlns=\"http://www.w3.org/2000/svg\" height=\"24px\"viewBox=\"0 0 24 24\"\n",
              "     width=\"24px\">\n",
              "    <g>\n",
              "        <path d=\"M19 3H5c-1.1 0-2 .9-2 2v14c0 1.1.9 2 2 2h14c1.1 0 2-.9 2-2V5c0-1.1-.9-2-2-2zM9 17H7v-7h2v7zm4 0h-2V7h2v10zm4 0h-2v-4h2v4z\"/>\n",
              "    </g>\n",
              "</svg>\n",
              "  </button>\n",
              "\n",
              "<style>\n",
              "  .colab-df-quickchart {\n",
              "      --bg-color: #E8F0FE;\n",
              "      --fill-color: #1967D2;\n",
              "      --hover-bg-color: #E2EBFA;\n",
              "      --hover-fill-color: #174EA6;\n",
              "      --disabled-fill-color: #AAA;\n",
              "      --disabled-bg-color: #DDD;\n",
              "  }\n",
              "\n",
              "  [theme=dark] .colab-df-quickchart {\n",
              "      --bg-color: #3B4455;\n",
              "      --fill-color: #D2E3FC;\n",
              "      --hover-bg-color: #434B5C;\n",
              "      --hover-fill-color: #FFFFFF;\n",
              "      --disabled-bg-color: #3B4455;\n",
              "      --disabled-fill-color: #666;\n",
              "  }\n",
              "\n",
              "  .colab-df-quickchart {\n",
              "    background-color: var(--bg-color);\n",
              "    border: none;\n",
              "    border-radius: 50%;\n",
              "    cursor: pointer;\n",
              "    display: none;\n",
              "    fill: var(--fill-color);\n",
              "    height: 32px;\n",
              "    padding: 0;\n",
              "    width: 32px;\n",
              "  }\n",
              "\n",
              "  .colab-df-quickchart:hover {\n",
              "    background-color: var(--hover-bg-color);\n",
              "    box-shadow: 0 1px 2px rgba(60, 64, 67, 0.3), 0 1px 3px 1px rgba(60, 64, 67, 0.15);\n",
              "    fill: var(--button-hover-fill-color);\n",
              "  }\n",
              "\n",
              "  .colab-df-quickchart-complete:disabled,\n",
              "  .colab-df-quickchart-complete:disabled:hover {\n",
              "    background-color: var(--disabled-bg-color);\n",
              "    fill: var(--disabled-fill-color);\n",
              "    box-shadow: none;\n",
              "  }\n",
              "\n",
              "  .colab-df-spinner {\n",
              "    border: 2px solid var(--fill-color);\n",
              "    border-color: transparent;\n",
              "    border-bottom-color: var(--fill-color);\n",
              "    animation:\n",
              "      spin 1s steps(1) infinite;\n",
              "  }\n",
              "\n",
              "  @keyframes spin {\n",
              "    0% {\n",
              "      border-color: transparent;\n",
              "      border-bottom-color: var(--fill-color);\n",
              "      border-left-color: var(--fill-color);\n",
              "    }\n",
              "    20% {\n",
              "      border-color: transparent;\n",
              "      border-left-color: var(--fill-color);\n",
              "      border-top-color: var(--fill-color);\n",
              "    }\n",
              "    30% {\n",
              "      border-color: transparent;\n",
              "      border-left-color: var(--fill-color);\n",
              "      border-top-color: var(--fill-color);\n",
              "      border-right-color: var(--fill-color);\n",
              "    }\n",
              "    40% {\n",
              "      border-color: transparent;\n",
              "      border-right-color: var(--fill-color);\n",
              "      border-top-color: var(--fill-color);\n",
              "    }\n",
              "    60% {\n",
              "      border-color: transparent;\n",
              "      border-right-color: var(--fill-color);\n",
              "    }\n",
              "    80% {\n",
              "      border-color: transparent;\n",
              "      border-right-color: var(--fill-color);\n",
              "      border-bottom-color: var(--fill-color);\n",
              "    }\n",
              "    90% {\n",
              "      border-color: transparent;\n",
              "      border-bottom-color: var(--fill-color);\n",
              "    }\n",
              "  }\n",
              "</style>\n",
              "\n",
              "  <script>\n",
              "    async function quickchart(key) {\n",
              "      const quickchartButtonEl =\n",
              "        document.querySelector('#' + key + ' button');\n",
              "      quickchartButtonEl.disabled = true;  // To prevent multiple clicks.\n",
              "      quickchartButtonEl.classList.add('colab-df-spinner');\n",
              "      try {\n",
              "        const charts = await google.colab.kernel.invokeFunction(\n",
              "            'suggestCharts', [key], {});\n",
              "      } catch (error) {\n",
              "        console.error('Error during call to suggestCharts:', error);\n",
              "      }\n",
              "      quickchartButtonEl.classList.remove('colab-df-spinner');\n",
              "      quickchartButtonEl.classList.add('colab-df-quickchart-complete');\n",
              "    }\n",
              "    (() => {\n",
              "      let quickchartButtonEl =\n",
              "        document.querySelector('#df-0534ebe6-f3bc-494d-b71b-3d269dfd09a8 button');\n",
              "      quickchartButtonEl.style.display =\n",
              "        google.colab.kernel.accessAllowed ? 'block' : 'none';\n",
              "    })();\n",
              "  </script>\n",
              "</div>\n",
              "\n",
              "    </div>\n",
              "  </div>\n"
            ],
            "application/vnd.google.colaboratory.intrinsic+json": {
              "type": "dataframe",
              "summary": "{\n  \"name\": \"df[['High_Ozone','PT08\",\n  \"rows\": 5,\n  \"fields\": [\n    {\n      \"column\": \"High_Ozone\",\n      \"properties\": {\n        \"dtype\": \"number\",\n        \"std\": 0,\n        \"min\": 0,\n        \"max\": 1,\n        \"num_unique_values\": 2,\n        \"samples\": [\n          0,\n          1\n        ],\n        \"semantic_type\": \"\",\n        \"description\": \"\"\n      }\n    },\n    {\n      \"column\": \"PT08.S5(O3)\",\n      \"properties\": {\n        \"dtype\": \"number\",\n        \"std\": 114.85556146743613,\n        \"min\": 972.0,\n        \"max\": 1268.0,\n        \"num_unique_values\": 5,\n        \"samples\": [\n          972.0,\n          1110.0\n        ],\n        \"semantic_type\": \"\",\n        \"description\": \"\"\n      }\n    }\n  ]\n}"
            }
          },
          "metadata": {},
          "execution_count": 155
        }
      ]
    },
    {
      "cell_type": "markdown",
      "source": [
        "Выведите наиболее распространенный уровень концентрации оксидов азота\n",
        "(NOx(GT))"
      ],
      "metadata": {
        "id": "nRT_Bt5HDgfT"
      }
    },
    {
      "cell_type": "code",
      "source": [
        "df['NOx(GT)'] = df['NOx(GT)'].replace(-200, np.nan)\n",
        "print(df['NOx(GT)'].mode()[0])"
      ],
      "metadata": {
        "colab": {
          "base_uri": "https://localhost:8080/"
        },
        "id": "BQQgBCM_Dir0",
        "outputId": "03d9df7b-0356-4902-d088-19efe1d7fff1"
      },
      "execution_count": 145,
      "outputs": [
        {
          "output_type": "stream",
          "name": "stdout",
          "text": [
            "89.0\n"
          ]
        }
      ]
    },
    {
      "cell_type": "code",
      "source": [
        "print(df['C6H6(GT)'].unique())"
      ],
      "metadata": {
        "colab": {
          "base_uri": "https://localhost:8080/"
        },
        "id": "BybCEuNGD0JO",
        "outputId": "91df241a-757a-4387-b673-ccd99dfe0554"
      },
      "execution_count": 151,
      "outputs": [
        {
          "output_type": "stream",
          "name": "stdout",
          "text": [
            "['11,9' '9,4' '9,0' '9,2' '6,5' '4,7' '3,6' '3,3' '2,3' '1,7' '1,3' '1,1'\n",
            " '1,6' '3,2' '8,0' '9,5' '6,3' '5,0' '5,2' '7,3' '11,5' '8,8' '8,3' '11,2'\n",
            " '20,8' '27,4' '24,0' '12,8' '2,6' '5,9' '6,4' '4,1' '1,9' '1,0' '1,8'\n",
            " '4,4' '17,9' '22,1' '14,0' '11,6' '10,2' '11,0' '14,2' '12,7' '11,7'\n",
            " '19,3' '18,2' '32,6' '20,1' '14,3' '21,8' '9,6' '7,4' '5,4' '6,2' '2,9'\n",
            " '5,1' '11,8' '15,1' '12,9' '16,1' '12,3' '8,6' '10,6' '15,5' '19,6'\n",
            " '19,2' '18,3' '13,1' '10,9' '9,7' '3,7' '2,5' '2,4' '4,2' '10,7' '7,5'\n",
            " '8,2' '12,0' '12,2' '20,6' '23,1' '14,7' '6,9' '7,0' '4,0' '3,9' '25,9'\n",
            " '36,7' '26,6' '14,1' '14,9' '15,4' '12,1' '14,8' '32,1' '39,2' '31,0'\n",
            " '19,9' '15,3' '11,1' '2,8' '2,0' '3,5' '16,2' '19,7' '25,1' '20,0' '22,3'\n",
            " '20,4' '14,6' '16,6' '15,8' '17,8' '19,1' '24,9' '13,5' '9,1' '21,4'\n",
            " '36,4' '21,3' '12,5' '13,7' '10,4' '15,2' '27,0' '38,4' '35,1' '27,2'\n",
            " '15,0' '15,7' '13,0' '8,1' '5,5' '3,0' '7,7' '23,3' '35,8' '14,4' '16,8'\n",
            " '14,5' '21,5' '26,4' '26,0' '10,3' '8,9' '6,6' '6,7' '22,8' '31,3' '16,4'\n",
            " '16,7' '19,0' '19,4' '20,9' '20,2' '21,7' '19,8' '5,8' '3,4' '3,1' '4,3'\n",
            " '10,5' '9,3' '7,6' '12,4' '9,9' '2,1' '7,1' '6,8' '4,6' '8,4' '12,6'\n",
            " '7,9' '6,1' '0,7' '0,8' '17,7' '18,4' '21,0' '3,8' '2,7' '1,2' '0,6'\n",
            " '13,4' '16,9' '10,1' '8,7' '13,8' '5,3' '4,9' '4,8' '23,7' '10,8' '11,4'\n",
            " '4,5' '1,4' '0,9' '24,6' '21,6' '5,7' '2,2' '6,0' '8,5' '10,0' '5,6'\n",
            " '23,8' '18,9' '17,1' '1,5' '15,6' '11,3' '31,9' '-200,0' '21,2' '25,0'\n",
            " '20,3' '20,7' '15,9' '13,6' '24,1' '25,4' '26,7' '7,8' '13,2' '25,8'\n",
            " '9,8' '16,3' '18,0' '33,7' '22,0' '27,1' '13,9' '29,1' '0,5' '7,2' '27,7'\n",
            " '13,3' '18,1' '17,3' '17,5' '17,0' '19,5' '24,4' '28,1' '24,2' '23,2'\n",
            " '18,7' '23,0' '26,8' '16,5' '29,9' '25,3' '23,9' '40,3' '32,5' '33,6'\n",
            " '26,1' '28,3' '35,0' '22,4' '22,6' '31,1' '30,6' '23,4' '30,4' '24,7'\n",
            " '21,9' '28,9' '29,8' '36,2' '24,8' '28,6' '17,4' '26,9' '21,1' '26,5'\n",
            " '23,6' '31,5' '35,2' '27,5' '34,3' '37,4' '22,7' '29,3' '38,9' '25,5'\n",
            " '32,9' '16,0' '26,2' '28,2' '20,5' '22,2' '18,5' '40,2' '34,4' '24,5'\n",
            " '27,9' '36,1' '36,9' '17,6' '18,6' '27,6' '25,6' '30,2' '17,2' '28,8'\n",
            " '32,4' '23,5' '33,5' '27,8' '22,9' '29,0' '22,5' '27,3' '30,0' '25,2'\n",
            " '37,3' '35,6' '26,3' '30,7' '25,7' '34,5' '30,3' '32,3' '35,9' '31,8'\n",
            " '18,8' '32,2' '34,9' '31,4' '41,2' '28,7' '34,0' '29,4' '39,3' '28,0'\n",
            " '34,1' '36,3' '30,1' '41,6' '44,7' '30,8' '40,5' '32,0' '44,0' '37,1'\n",
            " '35,7' '31,2' '29,5' '36,5' '38,8' '37,9' '30,9' '43,7' '40,0' '24,3'\n",
            " '34,8' '46,3' '44,5' '41,0' '32,8' '45,9' '52,1' '36,6' '28,5' '35,3'\n",
            " '38,0' '44,1' '44,9' '48,2' '47,5' '33,0' '45,0' '42,8' '0,3' '0,4' '0,2'\n",
            " '47,7' '50,7' '63,7' '38,3' '37,6' '33,9' '33,2' '35,4' '49,5' '50,6'\n",
            " '49,4' '31,7' '33,3' '36,0' '45,2' '37,7' '31,6' '30,5' '28,4' '29,2'\n",
            " '43,9' '33,4' '50,8' '33,1' '43,0' '37,2' '38,1' '0,1' '29,7' '35,5' nan]\n"
          ]
        }
      ]
    },
    {
      "cell_type": "markdown",
      "source": [
        "Найдите количество измерений, в которых и уровень концентрации бензола\n",
        "(C6H6(GT)), и уровень концентрации оксидов азота (NOx(GT)) превышают свои средние\n",
        "значения.\n"
      ],
      "metadata": {
        "id": "kq3zuOdfFGcX"
      }
    },
    {
      "cell_type": "code",
      "source": [
        "df['C6H6(GT)'] = df['C6H6(GT)'].str.replace(',', '.')\n",
        "df['C6H6(GT)'] = pd.to_numeric(df['C6H6(GT)'], errors='coerce')"
      ],
      "metadata": {
        "id": "fn0EovSCFVSa"
      },
      "execution_count": 152,
      "outputs": []
    },
    {
      "cell_type": "code",
      "source": [
        "df['C6H6(GT)'] = df['C6H6(GT)'].replace(-200, np.nan)"
      ],
      "metadata": {
        "id": "S8YyQ-D0F1ei"
      },
      "execution_count": 153,
      "outputs": []
    },
    {
      "cell_type": "code",
      "source": [
        "count = ((df['C6H6(GT)'] > df['C6H6(GT)'].mean()) & (df['NOx(GT)'] > df['NOx(GT)'].mean())).sum()\n",
        "print(count)"
      ],
      "metadata": {
        "colab": {
          "base_uri": "https://localhost:8080/"
        },
        "id": "GXZOh0ngFJC6",
        "outputId": "c04890ac-48b3-4a96-cba8-28f72710adcc"
      },
      "execution_count": 154,
      "outputs": [
        {
          "output_type": "stream",
          "name": "stdout",
          "text": [
            "1924\n"
          ]
        }
      ]
    },
    {
      "cell_type": "markdown",
      "source": [
        "Найдите максимальную температуру (T) среди измерений, где уровень концентрации\n",
        "диоксида азота (NO2(GT)) ниже 50 мкг/м³."
      ],
      "metadata": {
        "id": "u0fM0XYSGIF7"
      }
    },
    {
      "cell_type": "code",
      "source": [
        "max_temperature = df[df['NO2(GT)'] < 50]['T'].max()\n",
        "print(max_temperature)"
      ],
      "metadata": {
        "colab": {
          "base_uri": "https://localhost:8080/"
        },
        "id": "B7cklxfRGKNV",
        "outputId": "47aae896-c507-4a27-dc55-75c9e064a423"
      },
      "execution_count": 156,
      "outputs": [
        {
          "output_type": "stream",
          "name": "stdout",
          "text": [
            "40.7\n"
          ]
        }
      ]
    },
    {
      "cell_type": "markdown",
      "source": [
        "Найдите количество измерений, в которых уровень концентрации оксида углерода\n",
        "(CO(GT)) выше среднего значения по датасету. Выведите информацию об этих\n",
        "измерениях."
      ],
      "metadata": {
        "id": "oVVja0wWHNU6"
      }
    },
    {
      "cell_type": "code",
      "source": [
        "mean_co = df['CO(GT)'].mean()\n",
        "high_co_df = df[df['CO(GT)'] > mean_co]\n",
        "print(f\"Количество измерений, где CO(GT) выше среднего: {high_co_df.shape[0]}\")\n",
        "print(high_co_df)"
      ],
      "metadata": {
        "colab": {
          "base_uri": "https://localhost:8080/"
        },
        "id": "X6_Et9bgHQPv",
        "outputId": "c21790cb-6b98-4c33-8acb-5ad96c0843ef"
      },
      "execution_count": 157,
      "outputs": [
        {
          "output_type": "stream",
          "name": "stdout",
          "text": [
            "Количество измерений, где CO(GT) выше среднего: 3110\n",
            "            Date      Time  CO(GT)  PT08.S1(CO)  NMHC(GT)  C6H6(GT)  \\\n",
            "0     10/03/2004  18.00.00     2.6       1360.0     150.0      11.9   \n",
            "2     10/03/2004  20.00.00     2.2       1402.0      88.0       9.0   \n",
            "3     10/03/2004  21.00.00     2.2       1376.0      80.0       9.2   \n",
            "15    11/03/2004  09.00.00     2.2       1351.0      87.0       9.5   \n",
            "20    11/03/2004  14.00.00     2.9       1371.0     164.0      11.5   \n",
            "...          ...       ...     ...          ...       ...       ...   \n",
            "9351  04/04/2005  09.00.00     3.9       1297.0       NaN      13.6   \n",
            "9352  04/04/2005  10.00.00     3.1       1314.0       NaN      13.5   \n",
            "9353  04/04/2005  11.00.00     2.4       1163.0       NaN      11.4   \n",
            "9354  04/04/2005  12.00.00     2.4       1142.0       NaN      12.4   \n",
            "9356  04/04/2005  14.00.00     2.2       1071.0       NaN      11.9   \n",
            "\n",
            "      PT08.S2(NMHC)  NOx(GT)  PT08.S3(NOx)  NO2(GT)  PT08.S4(NO2)  \\\n",
            "0            1046.0    166.0        1056.0    113.0        1692.0   \n",
            "2             939.0    131.0        1140.0    114.0        1555.0   \n",
            "3             948.0    172.0        1092.0    122.0        1584.0   \n",
            "15            960.0    129.0        1079.0    101.0        1583.0   \n",
            "20           1034.0    207.0         983.0    128.0        1730.0   \n",
            "...             ...      ...           ...      ...           ...   \n",
            "9351         1102.0    523.0         507.0    187.0        1375.0   \n",
            "9352         1101.0    472.0         539.0    190.0        1374.0   \n",
            "9353         1027.0    353.0         604.0    179.0        1264.0   \n",
            "9354         1063.0    293.0         603.0    175.0        1241.0   \n",
            "9356         1047.0    265.0         654.0    168.0        1129.0   \n",
            "\n",
            "      PT08.S5(O3)     T    RH      AH  Unnamed: 15  Unnamed: 16  High_Ozone  \n",
            "0          1268.0  13.6  48,9  0,7578          NaN          NaN           1  \n",
            "2          1074.0  11.9  54,0  0,7502          NaN          NaN           1  \n",
            "3          1203.0  11.0  60,0  0,7867          NaN          NaN           1  \n",
            "15         1028.0  10.5  60,6  0,7691          NaN          NaN           1  \n",
            "20         1037.0   8.0  81,1  0,8736          NaN          NaN           1  \n",
            "...           ...   ...   ...     ...          ...          ...         ...  \n",
            "9351       1583.0  18.2  36,3  0,7487          NaN          NaN           1  \n",
            "9352       1729.0  21.9  29,3  0,7568          NaN          NaN           1  \n",
            "9353       1269.0  24.3  23,7  0,7119          NaN          NaN           1  \n",
            "9354       1092.0  26.9  18,3  0,6406          NaN          NaN           1  \n",
            "9356        816.0  28.5  13,1  0,5028          NaN          NaN           0  \n",
            "\n",
            "[3110 rows x 18 columns]\n"
          ]
        }
      ]
    },
    {
      "cell_type": "markdown",
      "source": [
        "Разделите данные на две группы: измерения, сделанные при температуре выше\n",
        "среднего значения, и измерения, сделанные при температуре ниже среднего значения.\n",
        "Сравните средний уровень концентрации бензола (C6H6(GT)) в этих двух группах."
      ],
      "metadata": {
        "id": "RdGZTeyWHcTb"
      }
    },
    {
      "cell_type": "code",
      "source": [
        "mean_temperature = df['T'].mean()\n",
        "above_avg_temp = df[df['T'] > mean_temperature]\n",
        "below_avg_temp = df[df['T'] <= mean_temperature]\n",
        "mean_benzene_above = above_avg_temp['C6H6(GT)'].mean()\n",
        "mean_benzene_below = below_avg_temp['C6H6(GT)'].mean()\n",
        "\n",
        "print(f\"Средний уровень концентрации бензола при температуре выше среднего: {mean_benzene_above}\")\n",
        "print(f\"Средний уровень концентрации бензола при температуре ниже среднего: {mean_benzene_below}\")"
      ],
      "metadata": {
        "colab": {
          "base_uri": "https://localhost:8080/"
        },
        "id": "D8_rPcBJHfXF",
        "outputId": "38bb9980-56da-4d1d-e9b9-3c37070a162d"
      },
      "execution_count": 159,
      "outputs": [
        {
          "output_type": "stream",
          "name": "stdout",
          "text": [
            "Средний уровень концентрации бензола при температуре выше среднего: 11.501026598226785\n",
            "Средний уровень концентрации бензола при температуре ниже среднего: 8.791455897980871\n"
          ]
        }
      ]
    }
  ]
}
